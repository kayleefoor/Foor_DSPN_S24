{
  "cells": [
    {
      "cell_type": "markdown",
      "metadata": {
        "id": "view-in-github",
        "colab_type": "text"
      },
      "source": [
        "<a href=\"https://colab.research.google.com/github/kayleefoor/Foor_DSPN_S24/blob/main/Exercise_12.ipynb\" target=\"_parent\"><img src=\"https://colab.research.google.com/assets/colab-badge.svg\" alt=\"Open In Colab\"/></a>"
      ]
    },
    {
      "cell_type": "markdown",
      "metadata": {
        "id": "6xdZ1WjBmtDf"
      },
      "source": [
        "# Exercise 12: Cross validation\n",
        "-----\n",
        "\n",
        "In this exercise, we'll practice implementing cross validation techniques, including leave-one-out and k-fold cross validation. We'll use the `PimaIndiansDiabetes2` practice dataset, which has medical data on a group of Pima Native American women, including whether or not they have diabetes. This dataset is part of the `mlbench` package. We'll be using each person's medical history to predict whether or not they have been diagnosed with diabetes."
      ]
    },
    {
      "cell_type": "markdown",
      "metadata": {
        "id": "BubJSLTamtDg"
      },
      "source": [
        "# 1: Data (1 pts)\n",
        "---\n",
        "\n",
        "Load the `tidyverse`, `boot`, and `mlbench` packages (you may need to install `boot` and `mlbench`).\n",
        "\n",
        "Load the `PimaIndiansDiabetes2` dataset using the `data()` function. Drop the `insulin` column (it just has a lot of missing data) and then drop `NA`s from the rest of the dataset. Save your updated dataset to a new variable name. Finally, print the dimensions of your new dataset, and look at the first few lines of data."
      ]
    },
    {
      "cell_type": "code",
      "execution_count": 1,
      "metadata": {
        "id": "QNuKGb6emtDg",
        "vscode": {
          "languageId": "r"
        },
        "colab": {
          "base_uri": "https://localhost:8080/"
        },
        "outputId": "b95f4639-54cd-44fd-aade-5995eac9c00a"
      },
      "outputs": [
        {
          "output_type": "stream",
          "name": "stderr",
          "text": [
            "── \u001b[1mAttaching core tidyverse packages\u001b[22m ──────────────────────── tidyverse 2.0.0 ──\n",
            "\u001b[32m✔\u001b[39m \u001b[34mdplyr    \u001b[39m 1.1.4     \u001b[32m✔\u001b[39m \u001b[34mreadr    \u001b[39m 2.1.5\n",
            "\u001b[32m✔\u001b[39m \u001b[34mforcats  \u001b[39m 1.0.0     \u001b[32m✔\u001b[39m \u001b[34mstringr  \u001b[39m 1.5.1\n",
            "\u001b[32m✔\u001b[39m \u001b[34mggplot2  \u001b[39m 3.5.1     \u001b[32m✔\u001b[39m \u001b[34mtibble   \u001b[39m 3.2.1\n",
            "\u001b[32m✔\u001b[39m \u001b[34mlubridate\u001b[39m 1.9.4     \u001b[32m✔\u001b[39m \u001b[34mtidyr    \u001b[39m 1.3.1\n",
            "\u001b[32m✔\u001b[39m \u001b[34mpurrr    \u001b[39m 1.0.4     \n",
            "── \u001b[1mConflicts\u001b[22m ────────────────────────────────────────── tidyverse_conflicts() ──\n",
            "\u001b[31m✖\u001b[39m \u001b[34mdplyr\u001b[39m::\u001b[32mfilter()\u001b[39m masks \u001b[34mstats\u001b[39m::filter()\n",
            "\u001b[31m✖\u001b[39m \u001b[34mdplyr\u001b[39m::\u001b[32mlag()\u001b[39m    masks \u001b[34mstats\u001b[39m::lag()\n",
            "\u001b[36mℹ\u001b[39m Use the conflicted package (\u001b[3m\u001b[34m<http://conflicted.r-lib.org/>\u001b[39m\u001b[23m) to force all conflicts to become errors\n",
            "Installing package into ‘/usr/local/lib/R/site-library’\n",
            "(as ‘lib’ is unspecified)\n",
            "\n",
            "Installing package into ‘/usr/local/lib/R/site-library’\n",
            "(as ‘lib’ is unspecified)\n",
            "\n"
          ]
        }
      ],
      "source": [
        "library(tidyverse)\n",
        "install.packages(\"boot\")\n",
        "library(boot)\n",
        "install.packages(\"mlbench\")\n",
        "library(mlbench)"
      ]
    },
    {
      "cell_type": "code",
      "source": [
        "data(PimaIndiansDiabetes2)\n",
        "head(PimaIndiansDiabetes2)\n",
        "df <- PimaIndiansDiabetes2[, !(names(PimaIndiansDiabetes2) %in% \"insulin\")]\n",
        "df <- na.omit(df)"
      ],
      "metadata": {
        "colab": {
          "base_uri": "https://localhost:8080/",
          "height": 286
        },
        "id": "oDFs8LQ3HLZ3",
        "outputId": "1f99e9b6-0e63-499e-a051-b327600a11ea"
      },
      "execution_count": 4,
      "outputs": [
        {
          "output_type": "display_data",
          "data": {
            "text/html": [
              "<table class=\"dataframe\">\n",
              "<caption>A data.frame: 6 × 9</caption>\n",
              "<thead>\n",
              "\t<tr><th></th><th scope=col>pregnant</th><th scope=col>glucose</th><th scope=col>pressure</th><th scope=col>triceps</th><th scope=col>insulin</th><th scope=col>mass</th><th scope=col>pedigree</th><th scope=col>age</th><th scope=col>diabetes</th></tr>\n",
              "\t<tr><th></th><th scope=col>&lt;dbl&gt;</th><th scope=col>&lt;dbl&gt;</th><th scope=col>&lt;dbl&gt;</th><th scope=col>&lt;dbl&gt;</th><th scope=col>&lt;dbl&gt;</th><th scope=col>&lt;dbl&gt;</th><th scope=col>&lt;dbl&gt;</th><th scope=col>&lt;dbl&gt;</th><th scope=col>&lt;fct&gt;</th></tr>\n",
              "</thead>\n",
              "<tbody>\n",
              "\t<tr><th scope=row>1</th><td>6</td><td>148</td><td>72</td><td>35</td><td> NA</td><td>33.6</td><td>0.627</td><td>50</td><td>pos</td></tr>\n",
              "\t<tr><th scope=row>2</th><td>1</td><td> 85</td><td>66</td><td>29</td><td> NA</td><td>26.6</td><td>0.351</td><td>31</td><td>neg</td></tr>\n",
              "\t<tr><th scope=row>3</th><td>8</td><td>183</td><td>64</td><td>NA</td><td> NA</td><td>23.3</td><td>0.672</td><td>32</td><td>pos</td></tr>\n",
              "\t<tr><th scope=row>4</th><td>1</td><td> 89</td><td>66</td><td>23</td><td> 94</td><td>28.1</td><td>0.167</td><td>21</td><td>neg</td></tr>\n",
              "\t<tr><th scope=row>5</th><td>0</td><td>137</td><td>40</td><td>35</td><td>168</td><td>43.1</td><td>2.288</td><td>33</td><td>pos</td></tr>\n",
              "\t<tr><th scope=row>6</th><td>5</td><td>116</td><td>74</td><td>NA</td><td> NA</td><td>25.6</td><td>0.201</td><td>30</td><td>neg</td></tr>\n",
              "</tbody>\n",
              "</table>\n"
            ],
            "text/markdown": "\nA data.frame: 6 × 9\n\n| <!--/--> | pregnant &lt;dbl&gt; | glucose &lt;dbl&gt; | pressure &lt;dbl&gt; | triceps &lt;dbl&gt; | insulin &lt;dbl&gt; | mass &lt;dbl&gt; | pedigree &lt;dbl&gt; | age &lt;dbl&gt; | diabetes &lt;fct&gt; |\n|---|---|---|---|---|---|---|---|---|---|\n| 1 | 6 | 148 | 72 | 35 |  NA | 33.6 | 0.627 | 50 | pos |\n| 2 | 1 |  85 | 66 | 29 |  NA | 26.6 | 0.351 | 31 | neg |\n| 3 | 8 | 183 | 64 | NA |  NA | 23.3 | 0.672 | 32 | pos |\n| 4 | 1 |  89 | 66 | 23 |  94 | 28.1 | 0.167 | 21 | neg |\n| 5 | 0 | 137 | 40 | 35 | 168 | 43.1 | 2.288 | 33 | pos |\n| 6 | 5 | 116 | 74 | NA |  NA | 25.6 | 0.201 | 30 | neg |\n\n",
            "text/latex": "A data.frame: 6 × 9\n\\begin{tabular}{r|lllllllll}\n  & pregnant & glucose & pressure & triceps & insulin & mass & pedigree & age & diabetes\\\\\n  & <dbl> & <dbl> & <dbl> & <dbl> & <dbl> & <dbl> & <dbl> & <dbl> & <fct>\\\\\n\\hline\n\t1 & 6 & 148 & 72 & 35 &  NA & 33.6 & 0.627 & 50 & pos\\\\\n\t2 & 1 &  85 & 66 & 29 &  NA & 26.6 & 0.351 & 31 & neg\\\\\n\t3 & 8 & 183 & 64 & NA &  NA & 23.3 & 0.672 & 32 & pos\\\\\n\t4 & 1 &  89 & 66 & 23 &  94 & 28.1 & 0.167 & 21 & neg\\\\\n\t5 & 0 & 137 & 40 & 35 & 168 & 43.1 & 2.288 & 33 & pos\\\\\n\t6 & 5 & 116 & 74 & NA &  NA & 25.6 & 0.201 & 30 & neg\\\\\n\\end{tabular}\n",
            "text/plain": [
              "  pregnant glucose pressure triceps insulin mass pedigree age diabetes\n",
              "1 6        148     72       35       NA     33.6 0.627    50  pos     \n",
              "2 1         85     66       29       NA     26.6 0.351    31  neg     \n",
              "3 8        183     64       NA       NA     23.3 0.672    32  pos     \n",
              "4 1         89     66       23       94     28.1 0.167    21  neg     \n",
              "5 0        137     40       35      168     43.1 2.288    33  pos     \n",
              "6 5        116     74       NA       NA     25.6 0.201    30  neg     "
            ]
          },
          "metadata": {}
        }
      ]
    },
    {
      "cell_type": "code",
      "source": [
        "dim(df)\n",
        "head(df)"
      ],
      "metadata": {
        "colab": {
          "base_uri": "https://localhost:8080/",
          "height": 304
        },
        "id": "qnZ9L0-NIOR2",
        "outputId": "523a0cee-b458-4e1c-82d8-8857f6a35515"
      },
      "execution_count": 6,
      "outputs": [
        {
          "output_type": "display_data",
          "data": {
            "text/html": [
              "<style>\n",
              ".list-inline {list-style: none; margin:0; padding: 0}\n",
              ".list-inline>li {display: inline-block}\n",
              ".list-inline>li:not(:last-child)::after {content: \"\\00b7\"; padding: 0 .5ex}\n",
              "</style>\n",
              "<ol class=list-inline><li>532</li><li>8</li></ol>\n"
            ],
            "text/markdown": "1. 532\n2. 8\n\n\n",
            "text/latex": "\\begin{enumerate*}\n\\item 532\n\\item 8\n\\end{enumerate*}\n",
            "text/plain": [
              "[1] 532   8"
            ]
          },
          "metadata": {}
        },
        {
          "output_type": "display_data",
          "data": {
            "text/html": [
              "<table class=\"dataframe\">\n",
              "<caption>A data.frame: 6 × 8</caption>\n",
              "<thead>\n",
              "\t<tr><th></th><th scope=col>pregnant</th><th scope=col>glucose</th><th scope=col>pressure</th><th scope=col>triceps</th><th scope=col>mass</th><th scope=col>pedigree</th><th scope=col>age</th><th scope=col>diabetes</th></tr>\n",
              "\t<tr><th></th><th scope=col>&lt;dbl&gt;</th><th scope=col>&lt;dbl&gt;</th><th scope=col>&lt;dbl&gt;</th><th scope=col>&lt;dbl&gt;</th><th scope=col>&lt;dbl&gt;</th><th scope=col>&lt;dbl&gt;</th><th scope=col>&lt;dbl&gt;</th><th scope=col>&lt;fct&gt;</th></tr>\n",
              "</thead>\n",
              "<tbody>\n",
              "\t<tr><th scope=row>1</th><td>6</td><td>148</td><td>72</td><td>35</td><td>33.6</td><td>0.627</td><td>50</td><td>pos</td></tr>\n",
              "\t<tr><th scope=row>2</th><td>1</td><td> 85</td><td>66</td><td>29</td><td>26.6</td><td>0.351</td><td>31</td><td>neg</td></tr>\n",
              "\t<tr><th scope=row>4</th><td>1</td><td> 89</td><td>66</td><td>23</td><td>28.1</td><td>0.167</td><td>21</td><td>neg</td></tr>\n",
              "\t<tr><th scope=row>5</th><td>0</td><td>137</td><td>40</td><td>35</td><td>43.1</td><td>2.288</td><td>33</td><td>pos</td></tr>\n",
              "\t<tr><th scope=row>7</th><td>3</td><td> 78</td><td>50</td><td>32</td><td>31.0</td><td>0.248</td><td>26</td><td>pos</td></tr>\n",
              "\t<tr><th scope=row>9</th><td>2</td><td>197</td><td>70</td><td>45</td><td>30.5</td><td>0.158</td><td>53</td><td>pos</td></tr>\n",
              "</tbody>\n",
              "</table>\n"
            ],
            "text/markdown": "\nA data.frame: 6 × 8\n\n| <!--/--> | pregnant &lt;dbl&gt; | glucose &lt;dbl&gt; | pressure &lt;dbl&gt; | triceps &lt;dbl&gt; | mass &lt;dbl&gt; | pedigree &lt;dbl&gt; | age &lt;dbl&gt; | diabetes &lt;fct&gt; |\n|---|---|---|---|---|---|---|---|---|\n| 1 | 6 | 148 | 72 | 35 | 33.6 | 0.627 | 50 | pos |\n| 2 | 1 |  85 | 66 | 29 | 26.6 | 0.351 | 31 | neg |\n| 4 | 1 |  89 | 66 | 23 | 28.1 | 0.167 | 21 | neg |\n| 5 | 0 | 137 | 40 | 35 | 43.1 | 2.288 | 33 | pos |\n| 7 | 3 |  78 | 50 | 32 | 31.0 | 0.248 | 26 | pos |\n| 9 | 2 | 197 | 70 | 45 | 30.5 | 0.158 | 53 | pos |\n\n",
            "text/latex": "A data.frame: 6 × 8\n\\begin{tabular}{r|llllllll}\n  & pregnant & glucose & pressure & triceps & mass & pedigree & age & diabetes\\\\\n  & <dbl> & <dbl> & <dbl> & <dbl> & <dbl> & <dbl> & <dbl> & <fct>\\\\\n\\hline\n\t1 & 6 & 148 & 72 & 35 & 33.6 & 0.627 & 50 & pos\\\\\n\t2 & 1 &  85 & 66 & 29 & 26.6 & 0.351 & 31 & neg\\\\\n\t4 & 1 &  89 & 66 & 23 & 28.1 & 0.167 & 21 & neg\\\\\n\t5 & 0 & 137 & 40 & 35 & 43.1 & 2.288 & 33 & pos\\\\\n\t7 & 3 &  78 & 50 & 32 & 31.0 & 0.248 & 26 & pos\\\\\n\t9 & 2 & 197 & 70 & 45 & 30.5 & 0.158 & 53 & pos\\\\\n\\end{tabular}\n",
            "text/plain": [
              "  pregnant glucose pressure triceps mass pedigree age diabetes\n",
              "1 6        148     72       35      33.6 0.627    50  pos     \n",
              "2 1         85     66       29      26.6 0.351    31  neg     \n",
              "4 1         89     66       23      28.1 0.167    21  neg     \n",
              "5 0        137     40       35      43.1 2.288    33  pos     \n",
              "7 3         78     50       32      31.0 0.248    26  pos     \n",
              "9 2        197     70       45      30.5 0.158    53  pos     "
            ]
          },
          "metadata": {}
        }
      ]
    },
    {
      "cell_type": "markdown",
      "metadata": {
        "id": "_BRVQiWSmtDh"
      },
      "source": [
        "(Note that in medical contexts, `pedigree` refers to a system of measuring family history of a condition. So here, higher numbers mean greater family history of diabetes. You can read more about this dataset [here](https://rdrr.io/cran/mlbench/man/PimaIndiansDiabetes.html).)\n",
        "\n",
        "# 2. Leave-one-out Cross Validation (4 pts)\n",
        "\n",
        "In the tutorial, we learned how to fit leave-one-out cross validation using the `cv.glm` function from the `boot` package. But we can also do this manually using `predict()` like we have in the past.\n",
        "\n",
        "Let's predict `diabetes`, a dichotomous outcome, using all the other variables in our modified dataset.\n",
        "\n",
        "First, fit a logistic regression model using all of the observations except the very first one. Then use your fitted model to predict whether your holdout case is positive or negative for diabetes. Remember that logistic regression coefficients are in **log-odds**, meaning that if an output is positive, the probability of the outcome is greater than 50%; if the output is negative, the probability of the outcome is less than 50%.\n",
        "\n",
        "Compare your result to the actual response in row one above. Did your model correctly classify this observation?"
      ]
    },
    {
      "cell_type": "code",
      "execution_count": 12,
      "metadata": {
        "id": "RDyry5h_mtDi",
        "vscode": {
          "languageId": "r"
        },
        "colab": {
          "base_uri": "https://localhost:8080/",
          "height": 70
        },
        "outputId": "0fd2891f-85d0-4a02-bead-b52ed0e5d76c"
      },
      "outputs": [
        {
          "output_type": "display_data",
          "data": {
            "text/html": [
              "<strong>1:</strong> 0.729486981746287"
            ],
            "text/markdown": "**1:** 0.729486981746287",
            "text/latex": "\\textbf{1:} 0.729486981746287",
            "text/plain": [
              "       1 \n",
              "0.729487 "
            ]
          },
          "metadata": {}
        },
        {
          "output_type": "stream",
          "name": "stdout",
          "text": [
            "[1] pos\n",
            "Levels: neg pos\n"
          ]
        }
      ],
      "source": [
        "df_minus_one <- df[-1,]\n",
        "\n",
        "log_fit <- glm(diabetes~pregnant+glucose+pressure+triceps+mass+pedigree+age,\n",
        "                data=df_minus_one, family=binomial)\n",
        "summary(log_fit)\n",
        "\n",
        "predict(log_fit, newdata = df[1, ], type=\"response\") #prediction is positive because > 0.5\n",
        "\n",
        "print(df$diabetes[1])"
      ]
    },
    {
      "cell_type": "markdown",
      "metadata": {
        "id": "sIPpDdd0mtDi"
      },
      "source": [
        "So we just calculated a single iteration of LOOCV. We used 531 rows of our data to fit a model to predict the outcome of the last row.\n",
        "\n",
        "Below, use a `for` loop to iterate through the rest of your dataset doing the same thing. You will need to:\n",
        "* Create a data frame `results` with two columns: one named `actual` which holds the true classification for each observation, and one named `predicted`, which should be filled with `NA`s. This is where you'll store the output of your loop.\n",
        "* Create a loop that runs through each row of your data, pulls that observation out, trains your model on the remaining data, and then tests the fitted model on your test observation.\n",
        "* Store your model *predictions* (\"pos\" or \"neg\" -- not the log-odds) in the `predicted` column of your `results` dataframe\n",
        "\n",
        "After you run your loop, print the first few lines of `results`."
      ]
    },
    {
      "cell_type": "code",
      "execution_count": 15,
      "metadata": {
        "id": "5Z1ijm_PmtDj",
        "vscode": {
          "languageId": "r"
        },
        "colab": {
          "base_uri": "https://localhost:8080/",
          "height": 555
        },
        "outputId": "183de3b8-0c73-491b-b642-b285c9e2aaf0"
      },
      "outputs": [
        {
          "output_type": "display_data",
          "data": {
            "text/html": [
              "<table class=\"dataframe\">\n",
              "<caption>A data.frame: 6 × 2</caption>\n",
              "<thead>\n",
              "\t<tr><th></th><th scope=col>actual</th><th scope=col>predicted</th></tr>\n",
              "\t<tr><th></th><th scope=col>&lt;fct&gt;</th><th scope=col>&lt;lgl&gt;</th></tr>\n",
              "</thead>\n",
              "<tbody>\n",
              "\t<tr><th scope=row>1</th><td>pos</td><td>NA</td></tr>\n",
              "\t<tr><th scope=row>2</th><td>neg</td><td>NA</td></tr>\n",
              "\t<tr><th scope=row>3</th><td>neg</td><td>NA</td></tr>\n",
              "\t<tr><th scope=row>4</th><td>pos</td><td>NA</td></tr>\n",
              "\t<tr><th scope=row>5</th><td>pos</td><td>NA</td></tr>\n",
              "\t<tr><th scope=row>6</th><td>pos</td><td>NA</td></tr>\n",
              "</tbody>\n",
              "</table>\n"
            ],
            "text/markdown": "\nA data.frame: 6 × 2\n\n| <!--/--> | actual &lt;fct&gt; | predicted &lt;lgl&gt; |\n|---|---|---|\n| 1 | pos | NA |\n| 2 | neg | NA |\n| 3 | neg | NA |\n| 4 | pos | NA |\n| 5 | pos | NA |\n| 6 | pos | NA |\n\n",
            "text/latex": "A data.frame: 6 × 2\n\\begin{tabular}{r|ll}\n  & actual & predicted\\\\\n  & <fct> & <lgl>\\\\\n\\hline\n\t1 & pos & NA\\\\\n\t2 & neg & NA\\\\\n\t3 & neg & NA\\\\\n\t4 & pos & NA\\\\\n\t5 & pos & NA\\\\\n\t6 & pos & NA\\\\\n\\end{tabular}\n",
            "text/plain": [
              "  actual predicted\n",
              "1 pos    NA       \n",
              "2 neg    NA       \n",
              "3 neg    NA       \n",
              "4 pos    NA       \n",
              "5 pos    NA       \n",
              "6 pos    NA       "
            ]
          },
          "metadata": {}
        },
        {
          "output_type": "display_data",
          "data": {
            "text/html": [
              "<table class=\"dataframe\">\n",
              "<caption>A data.frame: 6 × 2</caption>\n",
              "<thead>\n",
              "\t<tr><th></th><th scope=col>actual</th><th scope=col>predicted</th></tr>\n",
              "\t<tr><th></th><th scope=col>&lt;fct&gt;</th><th scope=col>&lt;chr&gt;</th></tr>\n",
              "</thead>\n",
              "<tbody>\n",
              "\t<tr><th scope=row>1</th><td>pos</td><td>pos</td></tr>\n",
              "\t<tr><th scope=row>2</th><td>neg</td><td>neg</td></tr>\n",
              "\t<tr><th scope=row>3</th><td>neg</td><td>neg</td></tr>\n",
              "\t<tr><th scope=row>4</th><td>pos</td><td>pos</td></tr>\n",
              "\t<tr><th scope=row>5</th><td>pos</td><td>neg</td></tr>\n",
              "\t<tr><th scope=row>6</th><td>pos</td><td>pos</td></tr>\n",
              "</tbody>\n",
              "</table>\n"
            ],
            "text/markdown": "\nA data.frame: 6 × 2\n\n| <!--/--> | actual &lt;fct&gt; | predicted &lt;chr&gt; |\n|---|---|---|\n| 1 | pos | pos |\n| 2 | neg | neg |\n| 3 | neg | neg |\n| 4 | pos | pos |\n| 5 | pos | neg |\n| 6 | pos | pos |\n\n",
            "text/latex": "A data.frame: 6 × 2\n\\begin{tabular}{r|ll}\n  & actual & predicted\\\\\n  & <fct> & <chr>\\\\\n\\hline\n\t1 & pos & pos\\\\\n\t2 & neg & neg\\\\\n\t3 & neg & neg\\\\\n\t4 & pos & pos\\\\\n\t5 & pos & neg\\\\\n\t6 & pos & pos\\\\\n\\end{tabular}\n",
            "text/plain": [
              "  actual predicted\n",
              "1 pos    pos      \n",
              "2 neg    neg      \n",
              "3 neg    neg      \n",
              "4 pos    pos      \n",
              "5 pos    neg      \n",
              "6 pos    pos      "
            ]
          },
          "metadata": {}
        }
      ],
      "source": [
        "# Initialize `results` data frame\n",
        "results <- data.frame(\n",
        "                      actual = df$diabetes,\n",
        "                      predicted = NA\n",
        ")\n",
        "head(results)\n",
        "\n",
        "#for loop\n",
        "for (i in 1:nrow(df)){\n",
        "    # separate individual observation `i` from the rest of your data\n",
        "    df_minus_i <- df[-i,]\n",
        "\n",
        "    # train your model\n",
        "    log_fit <- glm(diabetes~pregnant+glucose+pressure+triceps+mass+pedigree+age,\n",
        "                data=df_minus_i, family=binomial)\n",
        "\n",
        "    # test model on hold out observation\n",
        "    pred <- predict(log_fit, newdata = df[i, ], type=\"response\")\n",
        "\n",
        "    # classify model prediction as \"pos\" or \"neg\" and add to `results`\n",
        "    if (pred > 0.5){\n",
        "      results$predicted[i] <- \"pos\"\n",
        "    } else {\n",
        "      results$predicted[i] <- \"neg\"\n",
        "    }\n",
        "}\n",
        "head(results)\n"
      ]
    },
    {
      "cell_type": "markdown",
      "metadata": {
        "id": "42Jng_EEmtDk"
      },
      "source": [
        "Now, calculate the overall error of your model. What proportion of cases were incorrectly classified?"
      ]
    },
    {
      "cell_type": "code",
      "execution_count": 17,
      "metadata": {
        "id": "SYhKS5HimtDk",
        "vscode": {
          "languageId": "r"
        },
        "colab": {
          "base_uri": "https://localhost:8080/"
        },
        "outputId": "6e93e283-5408-4b39-e372-00d12be7d20b"
      },
      "outputs": [
        {
          "output_type": "stream",
          "name": "stdout",
          "text": [
            "[1] \"Overall error rate: 0.221804511278195\"\n"
          ]
        }
      ],
      "source": [
        "error_rate <- sum(results$actual != results$predicted) / nrow(results)\n",
        "print(paste(\"Overall error rate:\", error_rate))"
      ]
    },
    {
      "cell_type": "markdown",
      "metadata": {
        "id": "W1TwL8BimtDl"
      },
      "source": [
        "# 3. Compare to `cv.glm` (3 pts)\n",
        "\n",
        "Now, let's compare this result to the `cv.glm` function. Using the tutorial as a guide, use `cv.glm` to run LOOCV on the data, using the same model (i.e., still using all of the variables to predict diabetes diagnosis).\n",
        "\n",
        "Note that, because this is a `classification` problem and not a regression problem like in the tutorial, we need to adjust the `cost` argument of `cv.glm`. We can read more about this in the docs:"
      ]
    },
    {
      "cell_type": "code",
      "execution_count": 19,
      "metadata": {
        "id": "wIUAW1AtmtDl",
        "vscode": {
          "languageId": "r"
        }
      },
      "outputs": [],
      "source": [
        "?cv.glm"
      ]
    },
    {
      "cell_type": "markdown",
      "metadata": {
        "id": "SWhbyxtymtDl"
      },
      "source": [
        "Here, we see `cost` is defined as:\n",
        "> \"A function of two vector arguments specifying the cost function for the cross-validation. The first argument to cost should correspond to the **observed responses** and the second argument should correspond to the **predicted or fitted responses** from the generalized linear model.\"\n",
        "\n",
        "In the example code (scroll to bottom of the docs), we see that the appropriate cost function for a binary classification is\n",
        "\n",
        "``\n",
        "cost <- function(r, pi = 0) mean(abs(r-pi) > 0.5)\n",
        "``\n",
        "\n",
        "Where `r` is the vector of observed responses (technically \"pos\" and \"neg\", but R treats these as 1 and 0 under the hood), and `pi` is the vector of *probabilities* (not log-odds) fit by the model. Thus, this boils down to our error: what proportion of observations were incorrectly classified. You will need to include this code below."
      ]
    },
    {
      "cell_type": "code",
      "execution_count": 20,
      "metadata": {
        "id": "bJiCmfqomtDl",
        "vscode": {
          "languageId": "r"
        },
        "colab": {
          "base_uri": "https://localhost:8080/",
          "height": 1000
        },
        "collapsed": true,
        "outputId": "08ac8070-911a-4b8d-c19b-325e5830a67d"
      },
      "outputs": [
        {
          "output_type": "display_data",
          "data": {
            "text/plain": [
              "$call\n",
              "cv.glm(data = df, glmfit = glm(diabetes ~ pregnant + glucose + \n",
              "    pressure + triceps + mass + pedigree + age, data = df, family = binomial), \n",
              "    cost = cost, K = nrow(df))\n",
              "\n",
              "$K\n",
              "[1] 532\n",
              "\n",
              "$delta\n",
              "[1] 0.2218045 0.2221154\n",
              "\n",
              "$seed\n",
              "  [1]       10403          78   203619623  -810653208  1710500911 -1761155592\n",
              "  [7]  1568123348 -1291009649   855667284   520628531  2058999921   826750906\n",
              " [13]  -699026479 -1193019906   373590722 -2079050979 -1476480518  1407193501\n",
              " [19]  -221950109  -757701084  -138431237  -278536508 -2067867416  1475822355\n",
              " [25] -1979103272   850747119   -17858043  -793313266 -2054972571  1978895378\n",
              " [31]  -904321122 -1618746439   358339078 -1898048031  1313665391  2003268208\n",
              " [37]   687476103   340540592  1954680684 -2007193449 -1431528228  -457355349\n",
              " [43] -1696833143 -1746195550 -1152385143  1923769430  1831420010  -648661659\n",
              " [49]  -981756350 -2002046619   899373691  1479999196  -118288797  1791336332\n",
              " [55] -1998435152 -1654461109   175530544 -1266194953  -768196339  -341999492\n",
              " [61]  1065000489   -22709781   929320711   260188461   878616848 -1887539694\n",
              " [67]   333871620 -1169510882  -678152881  2083747605 -1677045183 -1935295625\n",
              " [73] -1153648674  -898527148  1465481142 -1749790840  -354164163  1621364663\n",
              " [79]   286287547   751804217   173207564 -1944149362  -532278072 -1420969830\n",
              " [85]   419313763  -993353519   615090949  2133787715    -3657990  -209845520\n",
              " [91]  1188061322   496367412 -2128406975  1956783011   984214415   518505573\n",
              " [97]  1576182792   172388906 -1784494820 -1907830634  1585423895  1638664429\n",
              "[103]   326313321  1739317343 -1821654010 -1542422692  1988395230  1243638080\n",
              "[109]  1397120181  2110521967   590348195  2002970225  -948293788 -1688771546\n",
              "[115]  -662772640   642248626 -1683782517  1575393225  2139388909 -1443351701\n",
              "[121] -1461093182  1666183384  -102791886  -351763508  -225163719 -1802456965\n",
              "[127]   -59068649 -1844143747  -832181344  -782533598  -513435884  2017400270\n",
              "[133]  1013171679  1103177925  1789044945  1484615047   605425998 -1336619324\n",
              "[139]  -797395034   649702520   291060493  1458105831   118289611  -448183639\n",
              "[145] -1780390340 -1244070178 -1061636648  -631999414   552227635  -907450687\n",
              "[151]  -760770507   442244915 -1313468598  -507590368  1254837498  1695403332\n",
              "[157]    12801809 -1735242893 -1365938401    96223989   837681688 -2141902662\n",
              "[163]  1874447980 -1214637946  1085016935  1080674909 -1123371463  2038668975\n",
              "[169]  -186363594   167375756   589594766  1011409648 -2048523579 -1149946721\n",
              "[175]  1894902899  -865041503  1050532436   146826742  -173403216   848993762\n",
              "[181]  1995585947   274389625   525545693  1083108891   910845714  1925363336\n",
              "[187]  1131854882  -619691684   765938057 -1956060789  -854891225   517266445\n",
              "[193]  -749310864  -869775118  1875669028  1288101822  1634635503   254260085\n",
              "[199]  1094052769  -168536873   324758718  -819215692   515691926  -611822104\n",
              "[205]   665747101   833216087 -1641437093  -372761255   -22070484   634658990\n",
              "[211]  -873408152  -689983366  1866958979  1717891633   115774629  -542363997\n",
              "[217]   376029466  1817801488  -297474838  1619694996  -749676127 -1327955901\n",
              "[223]   604910831 -1790532027  1393664104  -564387830  -249783812  1537393206\n",
              "[229] -1771699977  1694113805   -46437943  1592463231  -988492634  1816934460\n",
              "[235] -1331348674   369249568  1506371413   626961551  1087213891 -1606627951\n",
              "[241] -1386999548  1937982342  -449663360 -1368579246   260887467 -1094794839\n",
              "[247] -1107774963 -1961537013 -1089168222 -1336016968  1577440210 -2008735828\n",
              "[253]  1030622105 -1913312101  -383343561 -1096179107    80490752  -594418814\n",
              "[259]   -88561868   193136750 -1059839617  1901070501    32864689  1309737063\n",
              "[265]  1331083182  2118076324 -1660406650  -979643816  -302175251 -1014620665\n",
              "[271] -1471662613  -977241783     8531036  1469858814 -1789383048  -776318294\n",
              "[277]  -342535725   758103969  1828026325 -2094506605   278338410 -1678899008\n",
              "[283]  -653408422    24952740 -1090373391  -249218925 -1895912571  2030542673\n",
              "[289] -1249168183  1147268139  1706949296  1730308840 -1251972276  1384558734\n",
              "[295]  -350965633  -580136065  1996902827  -803091031  -113731610 -1504849782\n",
              "[301]  -493777006  1946342888 -1451033071 -1511218915   455423469   988514463\n",
              "[307]   906211812   473406724 -2119840520 -1052072862 -1908124397  1933179571\n",
              "[313] -1080669769  1560446517   675852194  -398792850 -1061518810   704958996\n",
              "[319]   787953293 -1692406567  1896999985   385446163  1828658952  1216335808\n",
              "[325]  1659396948 -1351903018 -1932094793  1994354839  1690177779   816548801\n",
              "[331]  2113534478 -1916034654     -220966   886353840  2032790249   564414453\n",
              "[337]  1359469125   930707031   967738124 -1576857140  -817485904   -62701094\n",
              "[343]  2005565051 -1864402501  1023000591   216926301 -1264277862  -246372074\n",
              "[349]  1812874942  -433337908   -74658795 -2131480383  -152402279  -685191237\n",
              "[355] -1336360000 -1753387656 -1086304772 -2109428930  1790575151   674669007\n",
              "[361]  1527634075  1856534009   973485686   834426490  -939886110  -766796840\n",
              "[367]   594457473  1485320589   542541917  1890996431  -824605068 -1320464172\n",
              "[373]  -681119960 -1323190254  -604683869  1445041283  -475653529 -2028537691\n",
              "[379]  1478097138  -315353026  -997098154   184046564  1232782589  2031160361\n",
              "[385]  -124547743  -573656957   789369528  1894988144 -1351564572  2019783462\n",
              "[391]  -318644793  1848877831   352364739   -41321871  1455415742  -328819662\n",
              "[397]   609364234   447185344  1288022521  -992144891 -2074245739  1740157799\n",
              "[403] -1340828868  1196955580   305926848  -234392022   717407403  1009345323\n",
              "[409]  1074479327  1963260205   955353546  1789509830  1858851150   948431228\n",
              "[415]  -598522651   325741041 -2006253655 -1246803061  1077007376  -892693048\n",
              "[421] -1967316244   258987438  1108627807  1746127007    97392843   584429769\n",
              "[427]  -593102458   185505450  -780369358    84224072 -1329418383  1546685821\n",
              "[433]  1444556109 -1759058497  -928475388 -1935390492   222278744 -1688026302\n",
              "[439] -1513935565  1419314451  1591702231  2078507349  -383572542  1975294478\n",
              "[445]  1262408774 -1526382668   848840045 -1922169543  -414497775  1219101107\n",
              "[451] -1959513624  1454063264  -608065868  -622952074  1009511575 -1312637238\n",
              "[457]  1181392465  1448616486 -1594095191 -1830544964   482657821   262574538\n",
              "[463]  -296545745    72261478    30759101 -1645043626   310636305 -1110998232\n",
              "[469]  1880757181   814974494  1501127663  1740942682 -1143397503  1299588206\n",
              "[475]   467327873  -551716436  -366115555  -406387310  1746979511   423746134\n",
              "[481] -1283326531  1485534950  1079684177  1726716264 -1489980747   906340710\n",
              "[487]  -849241201 -1484012726   899211297  -571782218  -567131735   530330684\n",
              "[493]    50731085   482636362  1166868927  -869161546  -458942419   779124550\n",
              "[499]  1570839009  1253867080    98171837  1392348158   125326463 -1412589846\n",
              "[505]  1782401729   -97206114   348459905  2038144604  -622192643   273612882\n",
              "[511]  -124079577 -1483271530 -1389727843  2020602268   -66570635  -844697783\n",
              "[517]  1667924612 -1480328838  -814244191 -1150500479  1084182818   630734272\n",
              "[523]  1002911001  1113323233  -732383176   334476322  1623691733  -193406319\n",
              "[529]   550250954   886854260   418570157  1892869617  1654582420 -1457816278\n",
              "[535]  -353087959 -1232744967 -1549650854   757477056  -783659415  -329815863\n",
              "[541]  1106186144  -126192174   954667461  -936949799   352561634 -1557950516\n",
              "[547]  1605030789  1923012425  2038651476 -1384601718 -2082233007   702502769\n",
              "[553] -1030785566   156604736 -2109626647  1324773073  1392954552  -683945550\n",
              "[559]  1659010869 -1605752367   435335050  -822891596 -2100272243  1432823777\n",
              "[565]  1113717540  -992643622   596617385 -2123319783 -2127398902 -1853905440\n",
              "[571]  2070222905  1605004425   900178448   380678978  1355876069  1452412873\n",
              "[577] -1206594190  1839654972  1024551765 -2046292439 -1486230236   761522202\n",
              "[583]   457966817  -169067999 -2038286910  -684999136  -270758215  1167265697\n",
              "[589]   501333496  -804944926   -91673451 -1889979983 -1180083318 -2123292684\n",
              "[595]  -590686803  2027556881  2135547412  1302990218  1771519433 -1159635143\n",
              "[601] -1628622438  1236065824  -860209687   -65491127 -1613640864 -1435532398\n",
              "[607]  1878568325  -114467591   821268450  -722118708  -728795771 -1179358999\n",
              "[613]  -372567660 -1584148982  -120050831 -2055951503   774164162   644256096\n",
              "[619] -1646188311  1802373617  -769992008  -567998894   236059637    56651953\n",
              "[625]  -764157301 -1814272075\n"
            ]
          },
          "metadata": {}
        }
      ],
      "source": [
        "\n",
        "cost <- function(r, pi = 0) mean(abs(r - pi) > 0.5)\n",
        "\n",
        "cv_glm_result <- cv.glm(df,\n",
        "                        glm(diabetes ~ pregnant + glucose + pressure + triceps + mass + pedigree + age,\n",
        "                            data = df, family = binomial),\n",
        "                        cost = cost, K = nrow(df))\n",
        "\n",
        "cv_glm_result$delta"
      ]
    },
    {
      "cell_type": "markdown",
      "metadata": {
        "id": "IcEuGX3FmtDm"
      },
      "source": [
        "How do your results compare to your manual LOOCV above?\n",
        "\n",
        "> * The error for this model is slightly higher than the manual LOOCV\n"
      ]
    },
    {
      "cell_type": "markdown",
      "metadata": {
        "id": "6Y2tL4NpmtDm"
      },
      "source": [
        "# 4. Adjusting K and Reflection (2 pts)\n",
        "\n",
        "Recall that LOOCV has some drawbacks. In particular, it has quite high *variance* which can lead to poor performance on new test data. We can reduce this variance by increasing K.\n",
        "\n",
        "Below, re-run your cross validation using `cv.glm` with `k` set to 3, 5, 10, and 15."
      ]
    },
    {
      "cell_type": "code",
      "execution_count": 22,
      "metadata": {
        "id": "vZYq_NQlmtDm",
        "scrolled": true,
        "vscode": {
          "languageId": "r"
        },
        "colab": {
          "base_uri": "https://localhost:8080/",
          "height": 86
        },
        "outputId": "005621e0-c827-414b-eacc-4c85f6bc97ba"
      },
      "outputs": [
        {
          "output_type": "display_data",
          "data": {
            "text/html": [
              "<style>\n",
              ".list-inline {list-style: none; margin:0; padding: 0}\n",
              ".list-inline>li {display: inline-block}\n",
              ".list-inline>li:not(:last-child)::after {content: \"\\00b7\"; padding: 0 .5ex}\n",
              "</style>\n",
              "<ol class=list-inline><li>0.210526315789474</li><li>0.21680846853977</li></ol>\n"
            ],
            "text/markdown": "1. 0.210526315789474\n2. 0.21680846853977\n\n\n",
            "text/latex": "\\begin{enumerate*}\n\\item 0.210526315789474\n\\item 0.21680846853977\n\\end{enumerate*}\n",
            "text/plain": [
              "[1] 0.2105263 0.2168085"
            ]
          },
          "metadata": {}
        },
        {
          "output_type": "display_data",
          "data": {
            "text/html": [
              "<style>\n",
              ".list-inline {list-style: none; margin:0; padding: 0}\n",
              ".list-inline>li {display: inline-block}\n",
              ".list-inline>li:not(:last-child)::after {content: \"\\00b7\"; padding: 0 .5ex}\n",
              "</style>\n",
              "<ol class=list-inline><li>0.216165413533835</li><li>0.218444372208717</li></ol>\n"
            ],
            "text/markdown": "1. 0.216165413533835\n2. 0.218444372208717\n\n\n",
            "text/latex": "\\begin{enumerate*}\n\\item 0.216165413533835\n\\item 0.218444372208717\n\\end{enumerate*}\n",
            "text/plain": [
              "[1] 0.2161654 0.2184444"
            ]
          },
          "metadata": {}
        },
        {
          "output_type": "display_data",
          "data": {
            "text/html": [
              "<style>\n",
              ".list-inline {list-style: none; margin:0; padding: 0}\n",
              ".list-inline>li {display: inline-block}\n",
              ".list-inline>li:not(:last-child)::after {content: \"\\00b7\"; padding: 0 .5ex}\n",
              "</style>\n",
              "<ol class=list-inline><li>0.223684210526316</li><li>0.223094154559331</li></ol>\n"
            ],
            "text/markdown": "1. 0.223684210526316\n2. 0.223094154559331\n\n\n",
            "text/latex": "\\begin{enumerate*}\n\\item 0.223684210526316\n\\item 0.223094154559331\n\\end{enumerate*}\n",
            "text/plain": [
              "[1] 0.2236842 0.2230942"
            ]
          },
          "metadata": {}
        },
        {
          "output_type": "display_data",
          "data": {
            "text/html": [
              "<style>\n",
              ".list-inline {list-style: none; margin:0; padding: 0}\n",
              ".list-inline>li {display: inline-block}\n",
              ".list-inline>li:not(:last-child)::after {content: \"\\00b7\"; padding: 0 .5ex}\n",
              "</style>\n",
              "<ol class=list-inline><li>0.227443609022556</li><li>0.228185595567867</li></ol>\n"
            ],
            "text/markdown": "1. 0.227443609022556\n2. 0.228185595567867\n\n\n",
            "text/latex": "\\begin{enumerate*}\n\\item 0.227443609022556\n\\item 0.228185595567867\n\\end{enumerate*}\n",
            "text/plain": [
              "[1] 0.2274436 0.2281856"
            ]
          },
          "metadata": {}
        }
      ],
      "source": [
        "set.seed(1)\n",
        "\n",
        "# K = 3\n",
        "k_3 <- cv.glm(df, glm(diabetes ~ pregnant + glucose + pressure + triceps + mass + pedigree + age,\n",
        "           data = df, family = binomial), cost = cost, K = 3)\n",
        "k_3$delta\n",
        "# K = 5\n",
        "k_5 <- cv.glm(df, glm(diabetes ~ pregnant + glucose + pressure + triceps + mass + pedigree + age,\n",
        "           data = df, family = binomial), cost = cost, K = 5)\n",
        "k_5$delta\n",
        "# K = 10\n",
        "\n",
        "k_10 <- cv.glm(df, glm(diabetes ~ pregnant + glucose + pressure + triceps + mass + pedigree + age,\n",
        "           data = df, family = binomial), cost = cost, K = 10)\n",
        "k_10$delta\n",
        "# K = 15\n",
        "k_15 <- cv.glm(df, glm(diabetes ~ pregnant + glucose + pressure + triceps + mass + pedigree + age,\n",
        "           data = df, family = binomial), cost = cost, K = 15)\n",
        "k_15$delta"
      ]
    },
    {
      "cell_type": "markdown",
      "metadata": {
        "id": "fI5Y1OqOmtDn"
      },
      "source": [
        "#### Reflection\n",
        "\n",
        "How do your errors compare to your LOOCV error above? How do they change as k increases?\n",
        "> * As k increases, so too does the error rate\n",
        "\n",
        "If you change the random seed above, you'll get slightly different errors. If you were to do the same with your LOOCV above , would you expect to get different results each time? Why or why not?\n",
        "> * We would not expect this to occur with the manual LOOCV because it is chronologically iterative, meaning there is no randomization involved in the systemic testing of each observation."
      ]
    },
    {
      "cell_type": "markdown",
      "metadata": {
        "id": "xAQhKGp2GnnQ"
      },
      "source": [
        "\n",
        "**DUE:** 5pm March 25, 2024\n",
        "\n",
        "**IMPORTANT** Did you collaborate with anyone on this assignment? If so, list their names here.\n",
        "> *Someone's Name*\n",
        ">\n",
        ">\n"
      ]
    }
  ],
  "metadata": {
    "colab": {
      "provenance": [],
      "include_colab_link": true
    },
    "kernelspec": {
      "display_name": "R",
      "language": "R",
      "name": "ir"
    },
    "language_info": {
      "codemirror_mode": "r",
      "file_extension": ".r",
      "mimetype": "text/x-r-source",
      "name": "R",
      "pygments_lexer": "r",
      "version": "4.2.0"
    }
  },
  "nbformat": 4,
  "nbformat_minor": 0
}