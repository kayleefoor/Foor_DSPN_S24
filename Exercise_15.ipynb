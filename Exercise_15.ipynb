{
  "cells": [
    {
      "cell_type": "markdown",
      "metadata": {
        "id": "view-in-github",
        "colab_type": "text"
      },
      "source": [
        "<a href=\"https://colab.research.google.com/github/kayleefoor/Foor_DSPN_S24/blob/main/Exercise_15.ipynb\" target=\"_parent\"><img src=\"https://colab.research.google.com/assets/colab-badge.svg\" alt=\"Open In Colab\"/></a>"
      ]
    },
    {
      "cell_type": "markdown",
      "metadata": {
        "id": "-2W919d2ZXp7"
      },
      "source": [
        "# Exercise 15: Power analyses"
      ]
    },
    {
      "cell_type": "markdown",
      "metadata": {
        "id": "L4nOzVhyZXqK"
      },
      "source": [
        "This  assignment is designed to give you practice with Monte Carlo methods to conduct power analyses via simulation. You won't need to load in any data for this homework. We will, however, be using parts of the homework from last week."
      ]
    },
    {
      "cell_type": "markdown",
      "source": [
        "1. Simulating data 1/1\n",
        "2. run_analysis() function 2/2\n",
        "3. repeat_analysis() function 3/3\n",
        "4. Testing different sample sizes 2/2\n",
        "5. Reflection 1/2"
      ],
      "metadata": {
        "id": "Q6jqLNKT9JBt"
      }
    },
    {
      "cell_type": "markdown",
      "metadata": {
        "id": "9DsyBTB6ZXqN"
      },
      "source": [
        "---\n",
        "## 1. Simulating data (1 points)\n"
      ]
    },
    {
      "cell_type": "markdown",
      "metadata": {
        "id": "J1f6MywYhyzN"
      },
      "source": [
        "Pull your `simulate_data()` function from your last homework and add it below.\n",
        "\n",
        "As a reminder, this function simulates the relationship between age, word reading experience, and reading comprehension skill.\n",
        "\n",
        "`c` is reading comprehension, and `x` is word reading experience."
      ]
    },
    {
      "cell_type": "code",
      "execution_count": null,
      "metadata": {
        "id": "UnBVazYfZXqP",
        "vscode": {
          "languageId": "r"
        },
        "colab": {
          "base_uri": "https://localhost:8080/",
          "height": 286
        },
        "outputId": "6576c84e-3372-4e8b-bbfc-02119a30b069"
      },
      "outputs": [
        {
          "output_type": "display_data",
          "data": {
            "text/html": [
              "<table class=\"dataframe\">\n",
              "<caption>A data.frame: 6 × 3</caption>\n",
              "<thead>\n",
              "\t<tr><th></th><th scope=col>age</th><th scope=col>x</th><th scope=col>c</th></tr>\n",
              "\t<tr><th></th><th scope=col>&lt;dbl&gt;</th><th scope=col>&lt;dbl&gt;</th><th scope=col>&lt;dbl&gt;</th></tr>\n",
              "</thead>\n",
              "<tbody>\n",
              "\t<tr><th scope=row>1</th><td>189.9503</td><td>-23.80924</td><td> 176.4429</td></tr>\n",
              "\t<tr><th scope=row>2</th><td>121.7465</td><td>109.20696</td><td> 360.5197</td></tr>\n",
              "\t<tr><th scope=row>3</th><td>174.5330</td><td> 47.31768</td><td> 235.2349</td></tr>\n",
              "\t<tr><th scope=row>4</th><td>153.5987</td><td>-44.99892</td><td>-132.4323</td></tr>\n",
              "\t<tr><th scope=row>5</th><td>119.6865</td><td> 18.46627</td><td> 180.0946</td></tr>\n",
              "\t<tr><th scope=row>6</th><td>174.5404</td><td>117.54197</td><td> 590.6237</td></tr>\n",
              "</tbody>\n",
              "</table>\n"
            ],
            "text/markdown": "\nA data.frame: 6 × 3\n\n| <!--/--> | age &lt;dbl&gt; | x &lt;dbl&gt; | c &lt;dbl&gt; |\n|---|---|---|---|\n| 1 | 189.9503 | -23.80924 |  176.4429 |\n| 2 | 121.7465 | 109.20696 |  360.5197 |\n| 3 | 174.5330 |  47.31768 |  235.2349 |\n| 4 | 153.5987 | -44.99892 | -132.4323 |\n| 5 | 119.6865 |  18.46627 |  180.0946 |\n| 6 | 174.5404 | 117.54197 |  590.6237 |\n\n",
            "text/latex": "A data.frame: 6 × 3\n\\begin{tabular}{r|lll}\n  & age & x & c\\\\\n  & <dbl> & <dbl> & <dbl>\\\\\n\\hline\n\t1 & 189.9503 & -23.80924 &  176.4429\\\\\n\t2 & 121.7465 & 109.20696 &  360.5197\\\\\n\t3 & 174.5330 &  47.31768 &  235.2349\\\\\n\t4 & 153.5987 & -44.99892 & -132.4323\\\\\n\t5 & 119.6865 &  18.46627 &  180.0946\\\\\n\t6 & 174.5404 & 117.54197 &  590.6237\\\\\n\\end{tabular}\n",
            "text/plain": [
              "  age      x         c        \n",
              "1 189.9503 -23.80924  176.4429\n",
              "2 121.7465 109.20696  360.5197\n",
              "3 174.5330  47.31768  235.2349\n",
              "4 153.5987 -44.99892 -132.4323\n",
              "5 119.6865  18.46627  180.0946\n",
              "6 174.5404 117.54197  590.6237"
            ]
          },
          "metadata": {}
        }
      ],
      "source": [
        "sample_size = 100 # How many children in data set?\n",
        "age_lo = 80     # minimum age, in months\n",
        "age_hi = 200    # maximum age, in months\n",
        "beta_xa = 0.5   # amount by which experience changes for increase of one month in age\n",
        "beta_x0 = -5    # amount of experience when age = 0 (not interpretable, since minimum age for this data is 80 months)\n",
        "sd_x = 50       # standard dev of gaussian noise term, epsilon_x\n",
        "beta_ca = 0.8   # amount that comprehension score improves for every increase of one unit in age\n",
        "beta_cx = 3     # amount that comprehension score improves for every increase of one unit in reading experience\n",
        "beta_c0 = 10    # comprehension score when reading experience is 0.\n",
        "sd_c = 85      # standard dev of gaussian noise term, epsilon_c\n",
        "\n",
        "simulate_data <- function(sample_size, age_lo, age_hi, beta_xa, beta_x0, sd_x, beta_ca, beta_cx, beta_c0, sd_c) {\n",
        "      age <- runif(n = sample_size, min = age_lo, max = age_hi)\n",
        "      x <- beta_xa * age + beta_x0 + rnorm(n = sample_size, sd = sd_x)\n",
        "      c <- beta_ca * age + beta_cx * x + beta_c0 + rnorm(n = sample_size, sd = sd_c)\n",
        "      dat <- data.frame(age=age, x=x, c=c)\n",
        "\n",
        "      return(dat) # it's actually bad form to have a variable named \"c\" in R, my bad...\n",
        "}\n",
        "\n",
        "dat <- simulate_data(sample_size, age_lo, age_hi, beta_xa, beta_x0, sd_x, beta_ca, beta_cx, beta_c0, sd_c)\n",
        "head(dat)"
      ]
    },
    {
      "cell_type": "markdown",
      "metadata": {
        "id": "T3b3_KsHk-xD"
      },
      "source": [
        "---\n",
        "## 2. `run_analysis()` function (2 pts)"
      ]
    },
    {
      "cell_type": "markdown",
      "metadata": {
        "id": "TJyPIaTO8zCS"
      },
      "source": [
        "Last week, we looked at whether word reading experience(`x`) mediated the relation between `age` and reading comprehension (`c`).\n",
        "\n",
        "Now we're going to use our `simulate_data()` function to conduct a power analysis. The goal is to determine how many participants we would need in order to detect both the mediated and the direct effects in this data.\n",
        "\n",
        "*Note: We're going to pretend for the sake of simplicity that we don't have any control over the ages of the children we get (so ages are generated using `runif(sample_size, age_lo, age_hi)`, although of course this would be an unusual situation in reality.*\n",
        "\n",
        "First, write a function, `run_analysis()`, that takes in simulated data, runs **your mediation from last week**, and returns a vector containing the ACME and ADE estimates and p-values (these are the `d0`, `d0.p`, `z0`, and `z0.p` features of the mediated model object, e.g., `fitMed$d0.p`). Print this function's output for the data we simulated previously."
      ]
    },
    {
      "cell_type": "code",
      "execution_count": null,
      "metadata": {
        "id": "AidH_KidrX9L",
        "scrolled": true,
        "vscode": {
          "languageId": "r"
        },
        "colab": {
          "base_uri": "https://localhost:8080/"
        },
        "collapsed": true,
        "outputId": "21446314-a9bb-4fa9-e454-553e32084fa0"
      },
      "outputs": [
        {
          "output_type": "stream",
          "name": "stderr",
          "text": [
            "Installing package into ‘/usr/local/lib/R/site-library’\n",
            "(as ‘lib’ is unspecified)\n",
            "\n",
            "also installing the dependencies ‘rbibutils’, ‘checkmate’, ‘Rdpack’, ‘zoo’, ‘gridExtra’, ‘htmlTable’, ‘viridis’, ‘Formula’, ‘minqa’, ‘nloptr’, ‘reformulas’, ‘RcppEigen’, ‘mvtnorm’, ‘sandwich’, ‘lpSolve’, ‘Hmisc’, ‘lme4’\n",
            "\n",
            "\n",
            "Loading required package: MASS\n",
            "\n",
            "Loading required package: Matrix\n",
            "\n",
            "Loading required package: mvtnorm\n",
            "\n",
            "Loading required package: sandwich\n",
            "\n",
            "mediation: Causal Mediation Analysis\n",
            "Version: 4.5.0\n",
            "\n",
            "\n"
          ]
        }
      ],
      "source": [
        "install.packages(\"mediation\")\n",
        "library(mediation)"
      ]
    },
    {
      "cell_type": "code",
      "source": [
        "run_analysis <- function(data) {\n",
        "  fit_mediator <- lm(x~age, data=dat)\n",
        "  fit_c <- lm(c~age+x, data=dat)\n",
        "  fit_med_model <- mediate(fit_mediator, fit_c, treat=\"age\", mediator=\"x\")\n",
        "  return(c(fit_med_model$d0,\n",
        "           fit_med_model$d0.p,\n",
        "           fit_med_model$z0,\n",
        "           fit_med_model$z0.p))\n",
        "}\n",
        "run_analysis(dat)"
      ],
      "metadata": {
        "colab": {
          "base_uri": "https://localhost:8080/",
          "height": 34
        },
        "id": "E67ZeDUDQCAY",
        "outputId": "0d9131e9-af81-4325-9064-d6a2cb036c30"
      },
      "execution_count": null,
      "outputs": [
        {
          "output_type": "display_data",
          "data": {
            "text/html": [
              "<style>\n",
              ".list-inline {list-style: none; margin:0; padding: 0}\n",
              ".list-inline>li {display: inline-block}\n",
              ".list-inline>li:not(:last-child)::after {content: \"\\00b7\"; padding: 0 .5ex}\n",
              "</style>\n",
              "<ol class=list-inline><li>1.93650950318912</li><li>0</li><li>0.702327528837748</li><li>0.004</li></ol>\n"
            ],
            "text/markdown": "1. 1.93650950318912\n2. 0\n3. 0.702327528837748\n4. 0.004\n\n\n",
            "text/latex": "\\begin{enumerate*}\n\\item 1.93650950318912\n\\item 0\n\\item 0.702327528837748\n\\item 0.004\n\\end{enumerate*}\n",
            "text/plain": [
              "[1] 1.9365095 0.0000000 0.7023275 0.0040000"
            ]
          },
          "metadata": {}
        }
      ]
    },
    {
      "cell_type": "markdown",
      "metadata": {
        "id": "bHxz5W2r5s79"
      },
      "source": [
        "---\n",
        "## 3. `repeat_analysis()` function (3 pts)"
      ]
    },
    {
      "cell_type": "markdown",
      "metadata": {
        "id": "G_jvc1XQBCpH"
      },
      "source": [
        "Next fill in the function `repeat_analysis()` below so that it simulates and analyzes data `num_simulations` times. Store the outputs from each simulation in the `simouts` matrix. Calculate and return the coverage across all the simulations run for both ACME and ADE."
      ]
    },
    {
      "cell_type": "code",
      "execution_count": null,
      "metadata": {
        "id": "NheOpBDsBBo9",
        "vscode": {
          "languageId": "r"
        }
      },
      "outputs": [],
      "source": [
        "repeat_analysis <- function(num_simulations, alpha, sample_size, age_lo, age_hi,\n",
        "        beta_xa, beta_x0, sd_x, beta_ca, beta_cx, beta_c0, sd_c) {\n",
        "    # Initialize simouts matrix for storing each output from run_analysis()\n",
        "    simouts <- matrix(rep(NA, num_simulations*4), nrow=num_simulations, ncol=4)\n",
        "\n",
        "    # Start simulating\n",
        "    for (i in 1:num_simulations) {\n",
        "       data <- simulate_data(sample_size, age_lo, age_hi, beta_xa, beta_x0, sd_x, beta_ca, beta_cx, beta_c0, sd_c)\n",
        "      simouts[i, ] <- run_analysis(data)\n",
        "\n",
        "    }\n",
        "\n",
        "    # Calculate coverage for both ACME and ADE estimates using p-values in simouts\n",
        "    ACME_cov = mean(simouts[,2] <= alpha)\n",
        "    ADE_cov = mean(simouts[,4] <= alpha)\n",
        "\n",
        "    return(list(ACME_cov = ACME_cov, ADE_cov = ADE_cov, p.values=simouts[,2]))\n",
        "}"
      ]
    },
    {
      "cell_type": "markdown",
      "metadata": {
        "id": "bM5J5pYyQoRL"
      },
      "source": [
        "Now run the `repeat_analysis()` function using the same parameter settings as above, for 10 simulations, with an alpha criterion of 0.01."
      ]
    },
    {
      "cell_type": "code",
      "execution_count": null,
      "metadata": {
        "id": "RpURGbZQQlEK",
        "vscode": {
          "languageId": "r"
        },
        "colab": {
          "base_uri": "https://localhost:8080/",
          "height": 149
        },
        "outputId": "9942e9ac-bbe3-4ca4-c3c7-c7a849266a13"
      },
      "outputs": [
        {
          "output_type": "display_data",
          "data": {
            "text/html": [
              "<dl>\n",
              "\t<dt>$ACME_cov</dt>\n",
              "\t\t<dd>1</dd>\n",
              "\t<dt>$ADE_cov</dt>\n",
              "\t\t<dd>0.7</dd>\n",
              "\t<dt>$p.values</dt>\n",
              "\t\t<dd><style>\n",
              ".list-inline {list-style: none; margin:0; padding: 0}\n",
              ".list-inline>li {display: inline-block}\n",
              ".list-inline>li:not(:last-child)::after {content: \"\\00b7\"; padding: 0 .5ex}\n",
              "</style>\n",
              "<ol class=list-inline><li>0</li><li>0</li><li>0</li><li>0</li><li>0</li><li>0</li><li>0</li><li>0</li><li>0</li><li>0.002</li></ol>\n",
              "</dd>\n",
              "</dl>\n"
            ],
            "text/markdown": "$ACME_cov\n:   1\n$ADE_cov\n:   0.7\n$p.values\n:   1. 0\n2. 0\n3. 0\n4. 0\n5. 0\n6. 0\n7. 0\n8. 0\n9. 0\n10. 0.002\n\n\n\n\n\n",
            "text/latex": "\\begin{description}\n\\item[\\$ACME\\_cov] 1\n\\item[\\$ADE\\_cov] 0.7\n\\item[\\$p.values] \\begin{enumerate*}\n\\item 0\n\\item 0\n\\item 0\n\\item 0\n\\item 0\n\\item 0\n\\item 0\n\\item 0\n\\item 0\n\\item 0.002\n\\end{enumerate*}\n\n\\end{description}\n",
            "text/plain": [
              "$ACME_cov\n",
              "[1] 1\n",
              "\n",
              "$ADE_cov\n",
              "[1] 0.7\n",
              "\n",
              "$p.values\n",
              " [1] 0.000 0.000 0.000 0.000 0.000 0.000 0.000 0.000 0.000 0.002\n"
            ]
          },
          "metadata": {}
        }
      ],
      "source": [
        "results = repeat_analysis(num_simulations =10, alpha=0.01, sample_size, age_lo, age_hi,\n",
        "        beta_xa, beta_x0, sd_x, beta_ca, beta_cx, beta_c0, sd_c)"
      ]
    },
    {
      "cell_type": "markdown",
      "metadata": {
        "id": "imIoN4w65s7_"
      },
      "source": [
        "---\n",
        "## 4. Testing different sample sizes (2 pts)"
      ]
    },
    {
      "cell_type": "markdown",
      "metadata": {
        "id": "CzeTaoY7SaXv"
      },
      "source": [
        "Finally, do the same thing (10 simulations, alpha criterion of 0.01) but for 5 different sample sizes: 50, 75, 100, 125, 150. You can do this using `map` (as in the tutorial), or a simple `for` loop, or by calculating each individually. Up to you! This should take around 3 minutes to run."
      ]
    },
    {
      "cell_type": "code",
      "execution_count": null,
      "metadata": {
        "id": "mp-a19XsS8Md",
        "vscode": {
          "languageId": "r"
        }
      },
      "outputs": [],
      "source": [
        "sample_sizes <- c(50, 75, 100, 125, 150)\n",
        "results_list <- list()\n",
        "\n",
        "for (sample_size in sample_sizes) {\n",
        "  results <- repeat_analysis(10, 0.01, sample_size, age_lo, age_hi,\n",
        "                            beta_xa, beta_x0, sd_x, beta_ca, beta_cx, beta_c0, sd_c)\n",
        "  results_list[[as.character(sample_size)]] <- results\n",
        "}"
      ]
    },
    {
      "cell_type": "markdown",
      "metadata": {
        "id": "akJwKCB7dkDw"
      },
      "source": [
        "Print your results."
      ]
    },
    {
      "cell_type": "code",
      "execution_count": null,
      "metadata": {
        "id": "gIkkWTG2aR4d",
        "scrolled": true,
        "vscode": {
          "languageId": "r"
        },
        "colab": {
          "base_uri": "https://localhost:8080/",
          "height": 779
        },
        "outputId": "d1f8240b-295c-4d30-a63d-b415b53b80c9"
      },
      "outputs": [
        {
          "output_type": "display_data",
          "data": {
            "text/html": [
              "<dl>\n",
              "\t<dt>$`50`</dt>\n",
              "\t\t<dd><dl>\n",
              "\t<dt>$ACME_cov</dt>\n",
              "\t\t<dd>1</dd>\n",
              "\t<dt>$ADE_cov</dt>\n",
              "\t\t<dd>1</dd>\n",
              "\t<dt>$p.values</dt>\n",
              "\t\t<dd><style>\n",
              ".list-inline {list-style: none; margin:0; padding: 0}\n",
              ".list-inline>li {display: inline-block}\n",
              ".list-inline>li:not(:last-child)::after {content: \"\\00b7\"; padding: 0 .5ex}\n",
              "</style>\n",
              "<ol class=list-inline><li>0.002</li><li>0</li><li>0</li><li>0</li><li>0</li><li>0</li><li>0</li><li>0</li><li>0</li><li>0</li></ol>\n",
              "</dd>\n",
              "</dl>\n",
              "</dd>\n",
              "\t<dt>$`75`</dt>\n",
              "\t\t<dd><dl>\n",
              "\t<dt>$ACME_cov</dt>\n",
              "\t\t<dd>1</dd>\n",
              "\t<dt>$ADE_cov</dt>\n",
              "\t\t<dd>0.9</dd>\n",
              "\t<dt>$p.values</dt>\n",
              "\t\t<dd><style>\n",
              ".list-inline {list-style: none; margin:0; padding: 0}\n",
              ".list-inline>li {display: inline-block}\n",
              ".list-inline>li:not(:last-child)::after {content: \"\\00b7\"; padding: 0 .5ex}\n",
              "</style>\n",
              "<ol class=list-inline><li>0</li><li>0</li><li>0</li><li>0</li><li>0</li><li>0</li><li>0</li><li>0.002</li><li>0</li><li>0</li></ol>\n",
              "</dd>\n",
              "</dl>\n",
              "</dd>\n",
              "\t<dt>$`100`</dt>\n",
              "\t\t<dd><dl>\n",
              "\t<dt>$ACME_cov</dt>\n",
              "\t\t<dd>1</dd>\n",
              "\t<dt>$ADE_cov</dt>\n",
              "\t\t<dd>1</dd>\n",
              "\t<dt>$p.values</dt>\n",
              "\t\t<dd><style>\n",
              ".list-inline {list-style: none; margin:0; padding: 0}\n",
              ".list-inline>li {display: inline-block}\n",
              ".list-inline>li:not(:last-child)::after {content: \"\\00b7\"; padding: 0 .5ex}\n",
              "</style>\n",
              "<ol class=list-inline><li>0.002</li><li>0</li><li>0</li><li>0</li><li>0.002</li><li>0</li><li>0</li><li>0</li><li>0</li><li>0</li></ol>\n",
              "</dd>\n",
              "</dl>\n",
              "</dd>\n",
              "\t<dt>$`125`</dt>\n",
              "\t\t<dd><dl>\n",
              "\t<dt>$ACME_cov</dt>\n",
              "\t\t<dd>1</dd>\n",
              "\t<dt>$ADE_cov</dt>\n",
              "\t\t<dd>1</dd>\n",
              "\t<dt>$p.values</dt>\n",
              "\t\t<dd><style>\n",
              ".list-inline {list-style: none; margin:0; padding: 0}\n",
              ".list-inline>li {display: inline-block}\n",
              ".list-inline>li:not(:last-child)::after {content: \"\\00b7\"; padding: 0 .5ex}\n",
              "</style>\n",
              "<ol class=list-inline><li>0</li><li>0</li><li>0</li><li>0</li><li>0</li><li>0</li><li>0</li><li>0.002</li><li>0</li><li>0</li></ol>\n",
              "</dd>\n",
              "</dl>\n",
              "</dd>\n",
              "\t<dt>$`150`</dt>\n",
              "\t\t<dd><dl>\n",
              "\t<dt>$ACME_cov</dt>\n",
              "\t\t<dd>1</dd>\n",
              "\t<dt>$ADE_cov</dt>\n",
              "\t\t<dd>0.8</dd>\n",
              "\t<dt>$p.values</dt>\n",
              "\t\t<dd><style>\n",
              ".list-inline {list-style: none; margin:0; padding: 0}\n",
              ".list-inline>li {display: inline-block}\n",
              ".list-inline>li:not(:last-child)::after {content: \"\\00b7\"; padding: 0 .5ex}\n",
              "</style>\n",
              "<ol class=list-inline><li>0</li><li>0.002</li><li>0.002</li><li>0</li><li>0</li><li>0</li><li>0</li><li>0</li><li>0</li><li>0</li></ol>\n",
              "</dd>\n",
              "</dl>\n",
              "</dd>\n",
              "</dl>\n"
            ],
            "text/markdown": "$`50`\n:   $ACME_cov\n:   1\n$ADE_cov\n:   1\n$p.values\n:   1. 0.002\n2. 0\n3. 0\n4. 0\n5. 0\n6. 0\n7. 0\n8. 0\n9. 0\n10. 0\n\n\n\n\n\n\n$`75`\n:   $ACME_cov\n:   1\n$ADE_cov\n:   0.9\n$p.values\n:   1. 0\n2. 0\n3. 0\n4. 0\n5. 0\n6. 0\n7. 0\n8. 0.002\n9. 0\n10. 0\n\n\n\n\n\n\n$`100`\n:   $ACME_cov\n:   1\n$ADE_cov\n:   1\n$p.values\n:   1. 0.002\n2. 0\n3. 0\n4. 0\n5. 0.002\n6. 0\n7. 0\n8. 0\n9. 0\n10. 0\n\n\n\n\n\n\n$`125`\n:   $ACME_cov\n:   1\n$ADE_cov\n:   1\n$p.values\n:   1. 0\n2. 0\n3. 0\n4. 0\n5. 0\n6. 0\n7. 0\n8. 0.002\n9. 0\n10. 0\n\n\n\n\n\n\n$`150`\n:   $ACME_cov\n:   1\n$ADE_cov\n:   0.8\n$p.values\n:   1. 0\n2. 0.002\n3. 0.002\n4. 0\n5. 0\n6. 0\n7. 0\n8. 0\n9. 0\n10. 0\n\n\n\n\n\n\n\n\n",
            "text/latex": "\\begin{description}\n\\item[\\$`50`] \\begin{description}\n\\item[\\$ACME\\_cov] 1\n\\item[\\$ADE\\_cov] 1\n\\item[\\$p.values] \\begin{enumerate*}\n\\item 0.002\n\\item 0\n\\item 0\n\\item 0\n\\item 0\n\\item 0\n\\item 0\n\\item 0\n\\item 0\n\\item 0\n\\end{enumerate*}\n\n\\end{description}\n\n\\item[\\$`75`] \\begin{description}\n\\item[\\$ACME\\_cov] 1\n\\item[\\$ADE\\_cov] 0.9\n\\item[\\$p.values] \\begin{enumerate*}\n\\item 0\n\\item 0\n\\item 0\n\\item 0\n\\item 0\n\\item 0\n\\item 0\n\\item 0.002\n\\item 0\n\\item 0\n\\end{enumerate*}\n\n\\end{description}\n\n\\item[\\$`100`] \\begin{description}\n\\item[\\$ACME\\_cov] 1\n\\item[\\$ADE\\_cov] 1\n\\item[\\$p.values] \\begin{enumerate*}\n\\item 0.002\n\\item 0\n\\item 0\n\\item 0\n\\item 0.002\n\\item 0\n\\item 0\n\\item 0\n\\item 0\n\\item 0\n\\end{enumerate*}\n\n\\end{description}\n\n\\item[\\$`125`] \\begin{description}\n\\item[\\$ACME\\_cov] 1\n\\item[\\$ADE\\_cov] 1\n\\item[\\$p.values] \\begin{enumerate*}\n\\item 0\n\\item 0\n\\item 0\n\\item 0\n\\item 0\n\\item 0\n\\item 0\n\\item 0.002\n\\item 0\n\\item 0\n\\end{enumerate*}\n\n\\end{description}\n\n\\item[\\$`150`] \\begin{description}\n\\item[\\$ACME\\_cov] 1\n\\item[\\$ADE\\_cov] 0.8\n\\item[\\$p.values] \\begin{enumerate*}\n\\item 0\n\\item 0.002\n\\item 0.002\n\\item 0\n\\item 0\n\\item 0\n\\item 0\n\\item 0\n\\item 0\n\\item 0\n\\end{enumerate*}\n\n\\end{description}\n\n\\end{description}\n",
            "text/plain": [
              "$`50`\n",
              "$`50`$ACME_cov\n",
              "[1] 1\n",
              "\n",
              "$`50`$ADE_cov\n",
              "[1] 1\n",
              "\n",
              "$`50`$p.values\n",
              " [1] 0.002 0.000 0.000 0.000 0.000 0.000 0.000 0.000 0.000 0.000\n",
              "\n",
              "\n",
              "$`75`\n",
              "$`75`$ACME_cov\n",
              "[1] 1\n",
              "\n",
              "$`75`$ADE_cov\n",
              "[1] 0.9\n",
              "\n",
              "$`75`$p.values\n",
              " [1] 0.000 0.000 0.000 0.000 0.000 0.000 0.000 0.002 0.000 0.000\n",
              "\n",
              "\n",
              "$`100`\n",
              "$`100`$ACME_cov\n",
              "[1] 1\n",
              "\n",
              "$`100`$ADE_cov\n",
              "[1] 1\n",
              "\n",
              "$`100`$p.values\n",
              " [1] 0.002 0.000 0.000 0.000 0.002 0.000 0.000 0.000 0.000 0.000\n",
              "\n",
              "\n",
              "$`125`\n",
              "$`125`$ACME_cov\n",
              "[1] 1\n",
              "\n",
              "$`125`$ADE_cov\n",
              "[1] 1\n",
              "\n",
              "$`125`$p.values\n",
              " [1] 0.000 0.000 0.000 0.000 0.000 0.000 0.000 0.002 0.000 0.000\n",
              "\n",
              "\n",
              "$`150`\n",
              "$`150`$ACME_cov\n",
              "[1] 1\n",
              "\n",
              "$`150`$ADE_cov\n",
              "[1] 0.8\n",
              "\n",
              "$`150`$p.values\n",
              " [1] 0.000 0.002 0.002 0.000 0.000 0.000 0.000 0.000 0.000 0.000\n",
              "\n"
            ]
          },
          "metadata": {}
        }
      ],
      "source": [
        "head(results_list)"
      ]
    },
    {
      "cell_type": "markdown",
      "metadata": {
        "id": "q3Oo6npB5s8B"
      },
      "source": [
        "## 5. Reflection (2 pts)"
      ]
    },
    {
      "cell_type": "markdown",
      "metadata": {
        "id": "tpbGkul2dr-5"
      },
      "source": [
        "If this were a real power analysis, we'd want to run more simulations per sample size (to get a more precise estimate of power) and we may also want to test out some other values of the parameters we used to simulate our data. However, what would you conclude just based on the results above?\n",
        "\n",
        "> *I conclude that I definitely did something wrong but I cannot figure out what it is. This output does not look correct, but I no longer have the emotional bandwidth to troubleshoot. :)*\n",
        ">"
      ]
    },
    {
      "cell_type": "markdown",
      "metadata": {
        "id": "RcCo3QOifUi5"
      },
      "source": [
        "**Given** how we generated the data, why was the direct effect harder to detect than the mediated effect?\n",
        "> *When the data simulated indicates a strong direct relationship between the mediator and the outcome, it is likely that you will overshadow the direct effect of the primary predictor of interest on the outcome.*"
      ]
    },
    {
      "cell_type": "markdown",
      "metadata": {
        "id": "C4MPECMmZXqe"
      },
      "source": [
        "**DUE:** 5pm EST, April 3, 2024"
      ]
    },
    {
      "cell_type": "markdown",
      "metadata": {
        "id": "r9GUofXN4BVy"
      },
      "source": [
        "**IMPORTANT** Did you collaborate with anyone on this assignment? If so, list their names here.\n",
        "> *Someone's Name*"
      ]
    }
  ],
  "metadata": {
    "colab": {
      "provenance": [],
      "toc_visible": true,
      "include_colab_link": true
    },
    "kernelspec": {
      "display_name": "R",
      "language": "R",
      "name": "ir"
    },
    "language_info": {
      "codemirror_mode": "r",
      "file_extension": ".r",
      "mimetype": "text/x-r-source",
      "name": "R",
      "pygments_lexer": "r",
      "version": "4.2.0"
    }
  },
  "nbformat": 4,
  "nbformat_minor": 0
}