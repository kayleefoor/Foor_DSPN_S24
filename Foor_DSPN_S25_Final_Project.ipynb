{
  "cells": [
    {
      "cell_type": "markdown",
      "metadata": {
        "id": "view-in-github",
        "colab_type": "text"
      },
      "source": [
        "<a href=\"https://colab.research.google.com/github/kayleefoor/Foor_DSPN_S24/blob/main/Foor_DSPN_S25_Final_Project.ipynb\" target=\"_parent\"><img src=\"https://colab.research.google.com/assets/colab-badge.svg\" alt=\"Open In Colab\"/></a>"
      ]
    },
    {
      "cell_type": "markdown",
      "id": "982dbe9a",
      "metadata": {
        "id": "982dbe9a"
      },
      "source": [
        "---\n",
        "title: \"Examining the Role of Outness on Self-Reported Health Among LGBTQ+ People\"\n",
        "author: \"Kaylee Foor\"\n",
        "output:\n",
        "  html_document:\n",
        "    df_print: paged\n",
        "  pdf_document: default\n",
        "  html_notebook:\n",
        "    df_print: paged\n",
        "---\n",
        "\n",
        "# Background\n",
        "\n",
        "Since its conception in 2003, the Minority Stress Model has been a cornerstone of minority health research (Meyer, 2003). This framework theorizes a mechanism by which people who identify with minoritized groups (e.g., LGBTQ+ people, non-White racial groups, etc.) experience health disparities due to exposure to identity-specific stressors in addition to everyday ones. This model is widely known and nearly exclusively cited in minority health research. While the importance of this work cannot be denied, prioritizing this framework above all others limits the new and interesting information we can glean about the experiences of marginalized populations. In particular, taking such a deficit-focused approach mitigates our ability to ask detailed questions about resilience and thriving. This is particularly true for research on LGBTQ+ experiences, as the majority of work in this space is deficit-focused. To address this, the present analysis explores how resilience factors (e.g., outness, relationship quality, etc.) contribute to more positive health outcomes for LGBTQ+ people.\n",
        "\n",
        "I draw from the National Couples Health and Time Survey (NCHATS) dataset to ask these questions. This is a population-based survey study that was implemented in 2020 and 2021. The primary study asks questions related to COVID-19, contributors to health, and relationship dynamics among 3642 participants. All participants were married or cohabitating at the time of responding, aged 20-60, and diverse in sexual orientation (55% straight/heterosexual, 20% gay/lesbian, 10% bisexual, 15% other). For the purposes of this present investigation, only participants who do not identify as straight/heterosexual are considered in analyses (n=1516).\n",
        "\n",
        "# Variables\n",
        "\n",
        "*Demographics*\n",
        "\n",
        "-   **sexual_orientation** (factor): collapsed into categories of interest (homosexual, bisexual/pansexual, other) from indicator variables reported by participants (original options: heterosexual, homosexual, bisexual, same gender loving, queer, pansexual, omnisexual, asexual, questionning, don't know, something else)\n",
        "-   **participant_gender** (factor): reported by participants (options: man, woman, transgender, other)\n",
        "-   **partner_gender** (factor): reported by participants with the same choice options as participant_gender\n",
        "-   **age** (numeric): participant age (in years) at time of survey\n",
        "\n",
        "*Resilience*\n",
        "\n",
        "-   **support_total** (numeric): total extent of reliance on partner (ss_partner), family (ss_family), and friends (ss_friends). Participants responded to each individual item on a 5-point likert-scale (1=\"Not at all\" and 5=\"A great deal). Total (summed) score may range from 3 to 15.\n",
        "-   **outness_total** (numeric): total extent of outness to family (out_family), friends (out_friends), coworkers (out_coworkers), and healthcare professionals (out_hp). Participants responded to each individual item on a 4-point likert scale (1=all, 4=none -- reverse-scored for analysis)\n",
        "-   **identity_centrality** (numeric): single-item likert-type question to assess how central participants' sexual orientation is to their identity (1=\"strongly disagree\", 5=\"strongly agree\")\n",
        "\n",
        "*Relationship Quality*\n",
        "\n",
        "-   **csi** (numeric): total score for 4-item Couples' Satisfaction Index (1=\"not at all\", 7=\"perfect\" for each of the four scale items). `csi` represents the total sum score for these items.\n",
        "\n",
        "*Health*\n",
        "\n",
        "-   **health_self** (numeric): single-item likert-type question to assess participant perception of their overall health (1=\"poor\" and 5=\"excellent\")\n",
        "\n",
        "*Covariates*\n",
        "\n",
        "-   **stress** (numeric): single-item likert-type question to assess how stressed the participant was over the past week (1=\"not at all stressed\" and 5=\"very stressed\")\n",
        "\n",
        "# Hypotheses\n",
        "\n",
        "I predict that outness will be positively associated with health, such that people who are more \"out\" about their queer identity will report better health outcomes. I predict that relationship quality--operationalized as couples' satisfaction--will mediate this relationship. I predict that stress will moderate this relationship, such that people with lower stress will exhibit a more positive relationship between outness and health compared to those with higher stress levels.\n",
        "\n",
        "# Data Organization"
      ]
    },
    {
      "cell_type": "code",
      "execution_count": null,
      "id": "73e2b825",
      "metadata": {
        "language": "R",
        "id": "73e2b825"
      },
      "outputs": [],
      "source": [
        "#Load data\n",
        "library(readxl)\n",
        "nchat_mediation_data <- read_excel(\"~/Desktop/NCHAT/Data Analysis/Mediation Analysis/nchat_mediation_data_cleaned.xlsx\")"
      ]
    },
    {
      "cell_type": "code",
      "execution_count": null,
      "id": "3c91c5f3",
      "metadata": {
        "language": "R",
        "id": "3c91c5f3"
      },
      "outputs": [],
      "source": [
        "#Create new dataframe with only LGBTQ+ participants\n",
        "df1 <- subset(nchat_mediation_data, heterosexual == 0)"
      ]
    },
    {
      "cell_type": "markdown",
      "id": "01749303",
      "metadata": {
        "id": "01749303"
      },
      "source": [
        "### Data Cleansing and Tidying"
      ]
    },
    {
      "cell_type": "code",
      "execution_count": null,
      "id": "032cb471",
      "metadata": {
        "language": "R",
        "id": "032cb471"
      },
      "outputs": [],
      "source": [
        "#Transform categorical variables to factor\n",
        "cat_vars <- c(\"heterosexual\", \"homosexual\", \"bisexual\", \"same_gender_loving\",\n",
        "              \"queer\", \"pansexual\", \"omnisexual\", \"asexual\",\n",
        "              \"dont_know\", \"questioning\", \"something_else\", \"participant_gender\",\n",
        "              \"partner_gender\")\n",
        "df1[,cat_vars] <- lapply(df1[,cat_vars], as.factor)"
      ]
    },
    {
      "cell_type": "code",
      "execution_count": null,
      "id": "38d3775f",
      "metadata": {
        "language": "R",
        "id": "38d3775f"
      },
      "outputs": [],
      "source": [
        "#Identify and impute values for missing observations\n",
        "sapply(df1,function(x) sum(is.na(x)))\n",
        "df <- df1\n",
        "impute_data <- function(data) {\n",
        "  missing_cols <- names(data)[sapply(data, function(col) any(is.na(col)))]\n",
        "  for (col in missing_cols) {\n",
        "    if (is.numeric(data[[col]])) {\n",
        "      data[[col]][is.na(data[[col]])] <- mean(data[[col]], na.rm = TRUE)\n",
        "    } else if (is.factor(data[[col]]) || is.character(data[[col]])) {\n",
        "      mode_value <- names(sort(table(data[[col]]), decreasing = TRUE))[1] # Find mode\n",
        "      data[[col]][is.na(data[[col]])] <- mode_value\n",
        "    }\n",
        "  }\n",
        "  return(data)\n",
        "}\n",
        "df <- impute_data(df)\n",
        "sapply(df,function(x) sum(is.na(x)))"
      ]
    },
    {
      "cell_type": "code",
      "execution_count": null,
      "id": "9e48b71b",
      "metadata": {
        "language": "R",
        "id": "9e48b71b"
      },
      "outputs": [],
      "source": [
        "#Create Couples Satisfaction Index Variable\n",
        "csi_vars <- c(\"csi_1\", \"csi_2\", \"csi_3\", \"csi_4\")\n",
        "df$csi = rowSums(df[,c(csi_vars)], dims=1)"
      ]
    },
    {
      "cell_type": "code",
      "execution_count": null,
      "id": "e96b13bc",
      "metadata": {
        "language": "R",
        "id": "e96b13bc"
      },
      "outputs": [],
      "source": [
        "#Collapse sexual orientation variable\n",
        "df$sexual_orientation <- as.factor(ifelse(df$homosexual==1, \"homosexual\",\n",
        "                         ifelse(df$bisexual==1, \"bisexual/pansexual\",\n",
        "                         ifelse(df$pansexual==1, \"bisexual/pansexual\",\n",
        "                         ifelse(df$queer==1, \"queer\",\n",
        "                         ifelse(df$same_gender_loving==1 |\n",
        "                                df$omnisexual==1 |\n",
        "                                df$asexual==1 |\n",
        "                                df$dont_know==1 |\n",
        "                                df$questioning==1 |\n",
        "                                df$something_else==1, \"other\", NA))))))"
      ]
    },
    {
      "cell_type": "code",
      "execution_count": null,
      "id": "fe650328",
      "metadata": {
        "language": "R",
        "id": "fe650328"
      },
      "outputs": [],
      "source": [
        "#Create binary gender identity of couples variable\n",
        "df$same_gender_couple <- as.factor(ifelse(df$participant_gender == df$partner_gender,\n",
        "                                \"Yes\", \"No\"))"
      ]
    },
    {
      "cell_type": "code",
      "execution_count": null,
      "id": "a5ad08c5",
      "metadata": {
        "language": "R",
        "id": "a5ad08c5"
      },
      "outputs": [],
      "source": [
        "#reverse score outness variables (1=all, 4=none)\n",
        "df$out_family = 5 - df$out_family\n",
        "df$out_friends = 5 - df$out_friends\n",
        "df$out_coworkers = 5 - df$out_coworkers\n",
        "df$out_hp = 5 - df$out_hp\n",
        "\n",
        "#Create outness variable\n",
        "outness_vars <- c(\"out_family\", \"out_friends\", \"out_coworkers\", \"out_hp\")\n",
        "df$outness_total = rowSums(df[,c(outness_vars)], dims=1)"
      ]
    },
    {
      "cell_type": "code",
      "execution_count": null,
      "id": "615a7fa5",
      "metadata": {
        "language": "R",
        "id": "615a7fa5"
      },
      "outputs": [],
      "source": [
        "#Create social support variable\n",
        "support_vars <- c(\"ss_partner\", \"ss_family\", \"ss_friends\")\n",
        "df$support_total <- rowSums(df[,support_vars], dims=1)"
      ]
    },
    {
      "cell_type": "code",
      "execution_count": null,
      "id": "e416153a",
      "metadata": {
        "language": "R",
        "id": "e416153a"
      },
      "outputs": [],
      "source": [
        "library(psych)"
      ]
    },
    {
      "cell_type": "code",
      "execution_count": null,
      "id": "fe378ecb",
      "metadata": {
        "language": "R",
        "id": "fe378ecb"
      },
      "outputs": [],
      "source": [
        "#Calculate descriptive statistics\n",
        "cont_vars <- subset(df[,c(\"community_safety\", \"support_total\", \"outness_total\",\n",
        "                          \"identity_centrality\", \"csi\", \"health_self\",\n",
        "                          \"stress\", \"age\")])\n",
        "cont_names <- c(\"Community Safety\", \"Social Support\", \"Outness\",\n",
        "                     \"Identity Centrality\", \"CSI\", \"Perceived Health of Self\",\n",
        "                     \"Stress\", \"Age\")\n",
        "cont_vars_df <- as.data.frame(cont_vars)\n",
        "descriptives <- describe(cont_vars_df, fast=TRUE)\n",
        "View(descriptives)"
      ]
    },
    {
      "cell_type": "code",
      "execution_count": null,
      "id": "c5ae6b1f",
      "metadata": {
        "language": "R",
        "id": "c5ae6b1f"
      },
      "outputs": [],
      "source": [
        "#Transform continuous vars with skewness >= |1|\n",
        "df$ss_partner_sq <- (df$ss_partner)^2\n",
        "df$outness_total_sq <- (df$outness_total)^2\n",
        "df$csi_sq <- (df$csi)^2"
      ]
    },
    {
      "cell_type": "markdown",
      "id": "b13ba62c",
      "metadata": {
        "id": "b13ba62c"
      },
      "source": [
        "### Tidy-Compliant Data Table (Data Architecture)"
      ]
    },
    {
      "cell_type": "code",
      "execution_count": null,
      "id": "663e762b",
      "metadata": {
        "language": "R",
        "id": "663e762b"
      },
      "outputs": [],
      "source": [
        "head(df)"
      ]
    },
    {
      "cell_type": "markdown",
      "id": "8379df1e",
      "metadata": {
        "id": "8379df1e"
      },
      "source": [
        "# Analysis\n",
        "\n",
        "1.  Ordinary Least Squares Regression\n",
        "\n",
        "2.  Regression with Multiple Predictors\n",
        "\n",
        "3.  Mediation Analysis\n",
        "\n",
        "### Ordinary Least Squares Regression"
      ]
    },
    {
      "cell_type": "code",
      "execution_count": null,
      "id": "f8361690",
      "metadata": {
        "language": "R",
        "id": "f8361690"
      },
      "outputs": [],
      "source": [
        "library(dplyr)\n",
        "library(ggplot2)"
      ]
    },
    {
      "cell_type": "code",
      "execution_count": null,
      "id": "1cf3564d",
      "metadata": {
        "language": "R",
        "id": "1cf3564d"
      },
      "outputs": [],
      "source": [
        "#Create dataset with only predictors and outcome of interest\n",
        "reg_df <- df %>% select(health_self, outness_total_sq, csi_sq, support_total,\n",
        "                        participant_gender, same_gender_couple, identity_centrality,\n",
        "                        age, stress) %>% filter(participant_gender==c(\"Man\", \"Woman\")) %>% droplevels(df$participant_gender)\n",
        "reg_df$subject <- seq.int(nrow(reg_df))"
      ]
    },
    {
      "cell_type": "code",
      "execution_count": null,
      "id": "1a6f53d8",
      "metadata": {
        "language": "R",
        "id": "1a6f53d8"
      },
      "outputs": [],
      "source": [
        "#Main Effect of Outness on Self-Reported Health\n",
        "outness.health.reg <- lm(health_self ~ outness_total_sq, data=reg_df)\n",
        "summary(outness.health.reg)\n",
        "reg_df %>% ggplot(aes(x=outness_total_sq, y=health_self)) + geom_smooth(method=\"lm\") +\n",
        "  theme_light()"
      ]
    },
    {
      "cell_type": "markdown",
      "id": "34226740",
      "metadata": {
        "id": "34226740"
      },
      "source": [
        "Given this model, it appears that outness predicts health, such that people who are more \"out\" report better health. However, we should check assumptions."
      ]
    },
    {
      "cell_type": "code",
      "execution_count": null,
      "id": "4e1346a4",
      "metadata": {
        "language": "R",
        "id": "4e1346a4"
      },
      "outputs": [],
      "source": [
        "#Create plots to check assumptions of linear regression\n",
        "plot(outness.health.reg)"
      ]
    },
    {
      "cell_type": "markdown",
      "id": "0ebe1ffc",
      "metadata": {
        "id": "0ebe1ffc"
      },
      "source": [
        "The residuals-versus-fitted plot suggests that there are no issues with linearity in our model, as the red line is approximately horizontal. The Q-Q residuals plot does not indicate normality in our data, as the datapoints do not lie nicely on the normality line. The Scale-Location plot appears to suggest that our model has good heteroscedasticity. The Residuals-versus-Leverage plot indicates that there are some outliers/leverage points, but these are all to the right of Cook's line, meaning none extend beyond 3 standard deviations of the mean. Overall, the fit plots look good. However, because our R-squared value from the regression model output is so low, it may be helpful to add other predictors into our model to capture more variance.\n",
        "\n",
        "### Regression with Multiple Predictors"
      ]
    },
    {
      "cell_type": "code",
      "execution_count": null,
      "id": "b5a76a34",
      "metadata": {
        "language": "R",
        "id": "b5a76a34"
      },
      "outputs": [],
      "source": [
        "all.reg <- lm(health_self ~ . -subject , data=reg_df)\n",
        "summary(all.reg)"
      ]
    },
    {
      "cell_type": "markdown",
      "id": "e04a192c",
      "metadata": {
        "id": "e04a192c"
      },
      "source": [
        "This model indicates that, even when we consider a number of other predictors, outness still significantly predicts better self-rated health among our sample. Let's see how this model compares to the first one."
      ]
    },
    {
      "cell_type": "code",
      "execution_count": null,
      "id": "d81691d6",
      "metadata": {
        "language": "R",
        "id": "d81691d6"
      },
      "outputs": [],
      "source": [
        "#Comparing the two models\n",
        "ic = AIC(outness.health.reg, all.reg)\n",
        "ic\n",
        "diff(ic$AIC)"
      ]
    },
    {
      "cell_type": "markdown",
      "id": "65443b3f",
      "metadata": {
        "id": "65443b3f"
      },
      "source": [
        "Given the output for the Akaike information criterion (AIC), it appears that the more saturated model (all.reg) is a better choice for our data, as this model accounts for more variance.\n",
        "\n",
        "### Mediation Analysis\n",
        "\n",
        "So far, we've learned that outness is predictive of health and that there are some other variables which significantly affect this relationship (i.e., couples' satisfaction, stress). What is unknown is whether these variables play a mechanistic role in the relationship between outness and health. To further explore this relationship, we can conduct mediation & moderation analyses."
      ]
    },
    {
      "cell_type": "code",
      "execution_count": null,
      "id": "14f4a487",
      "metadata": {
        "language": "R",
        "id": "14f4a487"
      },
      "outputs": [],
      "source": [
        "library(mediation)"
      ]
    },
    {
      "cell_type": "markdown",
      "id": "2226b254",
      "metadata": {
        "id": "2226b254"
      },
      "source": [
        "Relationship quality has been found to play a significant role in health outcomes, and each partner's level of outness might have an effect on relationship quality. Thus, we might consider how couples' satisfaction (relationship quality) might mediate the relationship between outness and health."
      ]
    },
    {
      "cell_type": "code",
      "execution_count": null,
      "id": "24546a47",
      "metadata": {
        "language": "R",
        "id": "24546a47"
      },
      "outputs": [],
      "source": [
        "fit.m <- lm(csi_sq ~ outness_total_sq, data=reg_df)\n",
        "fit.y <- lm(health_self ~ outness_total_sq + csi_sq, data=reg_df)\n",
        "fit.med <- mediation::mediate(fit.m, fit.y, treat = \"outness_total_sq\",\n",
        "                              mediator = \"csi_sq\")\n",
        "summary(fit.med)"
      ]
    },
    {
      "cell_type": "markdown",
      "id": "dfc76eab",
      "metadata": {
        "id": "dfc76eab"
      },
      "source": [
        "The output above shows us there is a significant indirect (mediating) effect of `csi_sq` in the relationship between `outness_total_sq` and `health_self` (ACME). Further, because ADE is also significant, we know there is a significant direct effect of `outness_total_sq` on `health_self`, holding `csi_sq` constant. There is a significant total effect as well. Thus, we can conclude that the relationship between outness and health is partially mediated by couples' satisfaction.\n",
        "\n",
        "### Moderation Analysis\n",
        "\n",
        "Our multivariate regression also indicated that stress was a significant predictor of health. How might people with high versus low levels of stress exhibit a different relationship between outness and health? In other words, does having lower stress protect against any negative health effects that may exist due to being outwardly queer? We can do a simple moderation to test if this is the case."
      ]
    },
    {
      "cell_type": "code",
      "execution_count": null,
      "id": "742c3e8b",
      "metadata": {
        "language": "R",
        "id": "742c3e8b"
      },
      "outputs": [],
      "source": [
        "#Split stress variable into \"high\" versus \"low\"\n",
        "reg_df$stress_split <- as.factor(ifelse(reg_df$stress>=mean(reg_df$stress), \"High\", \"Low\"))"
      ]
    },
    {
      "cell_type": "code",
      "execution_count": null,
      "id": "1dc47ff8",
      "metadata": {
        "language": "R",
        "id": "1dc47ff8"
      },
      "outputs": [],
      "source": [
        "fit.mod <- lm(health_self ~ outness_total_sq*stress_split, data=reg_df)\n",
        "summary(fit.mod)"
      ]
    },
    {
      "cell_type": "markdown",
      "id": "9dd49675",
      "metadata": {
        "id": "9dd49675"
      },
      "source": [
        "Given the output above, we see that there is not a signficant moderating effect of stress on the relationship between outness and health. This means that, irrespective of a person's stress levels, there is still a positive association between being outwardly queer and more positive health outcomes.\n",
        "\n",
        "# Conclusions\n",
        "\n",
        "In the present analysis, we evaluated the effects of outness on self-reported health among a national sample of LGBTQ+ people. We found a significant linear relationship between outness and health, such that greater outness was associated with better self-reported health. We also determined that couples' satisfaction partially mediates this relationship. Finally, we did not find significant evidence that stress moderates this relationship, such that outness is predictive of better health irrespective of stress. These results contribute to the growing understanding of how identity and health interact for LGBTQ+ individuals. To make positive change for this community, it is crucial that we continue to evaluate how various resilience factors contribute to positive outcomes, as this can inform intervention development."
      ]
    }
  ],
  "metadata": {
    "kernelspec": {
      "display_name": "R",
      "language": "R",
      "name": "ir"
    },
    "colab": {
      "provenance": [],
      "include_colab_link": true
    }
  },
  "nbformat": 4,
  "nbformat_minor": 5
}