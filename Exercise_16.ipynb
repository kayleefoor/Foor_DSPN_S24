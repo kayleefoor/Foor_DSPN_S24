{
  "cells": [
    {
      "cell_type": "markdown",
      "metadata": {
        "id": "view-in-github",
        "colab_type": "text"
      },
      "source": [
        "<a href=\"https://colab.research.google.com/github/kayleefoor/Foor_DSPN_S24/blob/main/Exercise_16.ipynb\" target=\"_parent\"><img src=\"https://colab.research.google.com/assets/colab-badge.svg\" alt=\"Open In Colab\"/></a>"
      ]
    },
    {
      "cell_type": "markdown",
      "metadata": {
        "id": "614c6a4a"
      },
      "source": [
        "# Exercise 16: Model selection"
      ],
      "id": "614c6a4a"
    },
    {
      "cell_type": "markdown",
      "metadata": {
        "id": "7e861f62"
      },
      "source": [
        "This homework is designed to give you practice implementing model selection techniques, including best subset selection and forward/backward stepwise selection.\n",
        "\n",
        "You won't need to load in any data for this homework, we will be simulating our own."
      ],
      "id": "7e861f62"
    },
    {
      "cell_type": "markdown",
      "metadata": {
        "id": "b065256e"
      },
      "source": [
        "---\n",
        "## 1. Best subset selection (4 points)"
      ],
      "id": "b065256e"
    },
    {
      "cell_type": "markdown",
      "metadata": {
        "id": "bfe412c5"
      },
      "source": [
        "In this question, we will first generate simulated data, and then use it to perform best subset selection.\n",
        "\n",
        "a) Use `rnorm()` to generate a dataset including a predictor $X$ of length $n = 100$ and a noise vector $\\epsilon$ of length $n = 100$. Generate data for a response variable $Y$ of length $n = 100$ according to the model\n",
        "\n",
        "$Y = \\beta_0 + \\beta_1X + \\beta_2X^2 + \\beta_3X^3 + \\epsilon$\n",
        "\n",
        "where $\\beta_0$, $\\beta_1$, $\\beta_2$, and $\\beta_3$ are constants of your choice.\n"
      ],
      "id": "bfe412c5"
    },
    {
      "cell_type": "code",
      "execution_count": 14,
      "metadata": {
        "id": "82a01047",
        "vscode": {
          "languageId": "r"
        }
      },
      "outputs": [],
      "source": [
        "set.seed(123)\n",
        "\n",
        "X <- rnorm(n=100)\n",
        "noise <- rnorm(n=100)\n",
        "\n",
        "beta0 <- 1\n",
        "beta1 <- 2\n",
        "beta2 <- -1\n",
        "beta3 <- 0.5\n",
        "\n",
        "Y <- beta0 + beta1 * X + beta2 * X^2 + beta3 * X^3 + noise\n",
        "\n",
        "dat = data.frame(X, noise, Y)"
      ],
      "id": "82a01047"
    },
    {
      "cell_type": "markdown",
      "metadata": {
        "id": "19065c60"
      },
      "source": [
        "b) Use `regsubsets()` to perform best subset selection to determine the best model that contains the predictor variables $X$, $X^2$, . . . , $X^{10}$. Print the model summary."
      ],
      "id": "19065c60"
    },
    {
      "cell_type": "code",
      "source": [
        "install.packages(\"leaps\")\n",
        "library(leaps)\n",
        "library(dplyr)"
      ],
      "metadata": {
        "collapsed": true,
        "colab": {
          "base_uri": "https://localhost:8080/"
        },
        "id": "sKrk1l9DjKMO",
        "outputId": "942f989f-272b-4b31-8532-c3477d792dcd"
      },
      "id": "sKrk1l9DjKMO",
      "execution_count": 8,
      "outputs": [
        {
          "output_type": "stream",
          "name": "stderr",
          "text": [
            "\n",
            "Attaching package: ‘dplyr’\n",
            "\n",
            "\n",
            "The following objects are masked from ‘package:stats’:\n",
            "\n",
            "    filter, lag\n",
            "\n",
            "\n",
            "The following objects are masked from ‘package:base’:\n",
            "\n",
            "    intersect, setdiff, setequal, union\n",
            "\n",
            "\n"
          ]
        }
      ]
    },
    {
      "cell_type": "code",
      "execution_count": 26,
      "metadata": {
        "id": "2d0ea51f",
        "vscode": {
          "languageId": "r"
        },
        "colab": {
          "base_uri": "https://localhost:8080/",
          "height": 213
        },
        "outputId": "eb1b37c4-4f9b-4999-88cd-48e98f9222ea"
      },
      "outputs": [
        {
          "output_type": "display_data",
          "data": {
            "text/plain": [
              "Subset selection object\n",
              "Call: regsubsets.formula(Y ~ ., dat, nvmax = 10)\n",
              "2 Variables  (and intercept)\n",
              "      Forced in Forced out\n",
              "X         FALSE      FALSE\n",
              "noise     FALSE      FALSE\n",
              "1 subsets of each size up to 2\n",
              "Selection Algorithm: exhaustive\n",
              "         X   noise\n",
              "1  ( 1 ) \"*\" \" \"  \n",
              "2  ( 1 ) \"*\" \"*\"  "
            ]
          },
          "metadata": {}
        }
      ],
      "source": [
        "regfit <- regsubsets(Y~., dat, nvmax=10)\n",
        "reg.fit.summary <- summary(regfit)\n",
        "reg.fit.summary"
      ],
      "id": "2d0ea51f"
    },
    {
      "cell_type": "code",
      "execution_count": null,
      "metadata": {
        "id": "e584b852",
        "vscode": {
          "languageId": "r"
        }
      },
      "outputs": [],
      "source": [
        "# Note: if your model summary doesn't show up when viewing your notebook on github, copy and paste the output below.\n",
        "# Otherwise you can either delete this cell or leave it blank.\n",
        "\n",
        "```\n",
        "Subset selection object\n",
        "Call: regsubsets.formula(Y ~ ., dat, nvmax = 10)\n",
        "2 Variables  (and intercept)\n",
        "      Forced in Forced out\n",
        "X         FALSE      FALSE\n",
        "noise     FALSE      FALSE\n",
        "1 subsets of each size up to 2\n",
        "Selection Algorithm: exhaustive\n",
        "         X   noise\n",
        "1  ( 1 ) \"*\" \" \"\n",
        "2  ( 1 ) \"*\" \"*\"\n",
        "\n",
        "```"
      ],
      "id": "e584b852"
    },
    {
      "cell_type": "markdown",
      "metadata": {
        "id": "3528231b"
      },
      "source": [
        "c) Plot the Mallows' Cp, Bayesian Information Criteria (BIC) and the adjusted coefficient of determination, $R^2$, for each model tested. Which is the best model? Report the coefficients of the best model."
      ],
      "id": "3528231b"
    },
    {
      "cell_type": "code",
      "source": [
        "library(ggplot2)"
      ],
      "metadata": {
        "id": "JkNOzzv-nMeq"
      },
      "id": "JkNOzzv-nMeq",
      "execution_count": 23,
      "outputs": []
    },
    {
      "cell_type": "code",
      "execution_count": 27,
      "metadata": {
        "id": "6a817913",
        "vscode": {
          "languageId": "r"
        }
      },
      "outputs": [],
      "source": [
        "numvar = 1:length(reg.fit.summary$rss)\n",
        "allfalse = rep(FALSE, length(reg.fit.summary$rss))"
      ],
      "id": "6a817913"
    },
    {
      "cell_type": "code",
      "source": [
        "cp.df <- data.frame(numvar = numvar, cp <- reg.fit.summary$cp, mincp <- allfalse)\n",
        "cp.df$mincp[which.min(reg.fit.summary$cp)] <- TRUE\n",
        "ggplot(cp.df,aes(x=numvar,y=cp,shape=mincp,col=mincp)) +\n",
        "     geom_point(size=3) + theme_light() +\n",
        "     labs(x = \"Number of Variables\", y = \"Mallow's CP\", color=\"Maximum CP\", shape=\"Maximum CP\")"
      ],
      "metadata": {
        "colab": {
          "base_uri": "https://localhost:8080/",
          "height": 437
        },
        "id": "ULCDkoxMn0GH",
        "outputId": "fce96ae3-715f-4c9e-8955-fc6ec62b0788"
      },
      "id": "ULCDkoxMn0GH",
      "execution_count": 30,
      "outputs": [
        {
          "output_type": "display_data",
          "data": {
            "text/plain": [
              "plot without title"
            ],
            "image/png": "[encoded data removed]"
          },
          "metadata": {
            "image/png": {
              "width": 420,
              "height": 420
            }
          }
        }
      ]
    },
    {
      "cell_type": "code",
      "source": [
        "bic.df <- data.frame(numvar = numvar,bic <- reg.fit.summary$bic, minbic <- allfalse)\n",
        "bic.df$minbic[which.min(reg.fit.summary$bic)] <- TRUE\n",
        "ggplot(bic.df,aes(x=numvar,y=bic,shape=minbic,col=minbic)) +\n",
        "     geom_point(size=3) + theme_light() +\n",
        "     labs(x = \"Number of Variables\", y = \"BIC\", color=\"Minimum BIC\", shape=\"Minimum BIC\")"
      ],
      "metadata": {
        "colab": {
          "base_uri": "https://localhost:8080/",
          "height": 437
        },
        "id": "K3hrNyMboCuq",
        "outputId": "41032e61-2be0-4dbb-ef2a-c3f749ce5072"
      },
      "id": "K3hrNyMboCuq",
      "execution_count": 31,
      "outputs": [
        {
          "output_type": "display_data",
          "data": {
            "text/plain": [
              "plot without title"
            ],
            "image/png": "[encoded data removed]"
          },
          "metadata": {
            "image/png": {
              "width": 420,
              "height": 420
            }
          }
        }
      ]
    },
    {
      "cell_type": "code",
      "source": [
        "adjr2.df <- data.frame(numvar = numvar, adjr2 <- reg.fit.summary$adjr2, maxadjr2 <- allfalse)\n",
        "adjr2.df$maxadjr2[which.max(reg.fit.summary$adjr2)] <- TRUE\n",
        "ggplot(adjr2.df,aes(x=numvar,y=adjr2,shape=maxadjr2,col=maxadjr2)) +\n",
        "    geom_point(size=3) + theme_light() +\n",
        "    labs(x = \"Number of Variables\", y = 'Adj'~R^2, color='Maximum Adj'~R^2, shape='Maximum Adj'~R^2)\n"
      ],
      "metadata": {
        "colab": {
          "base_uri": "https://localhost:8080/",
          "height": 437
        },
        "id": "ADyezJ_7oJzb",
        "outputId": "a46356c4-5197-44b7-c8cc-a5a6abd2d051"
      },
      "id": "ADyezJ_7oJzb",
      "execution_count": 32,
      "outputs": [
        {
          "output_type": "display_data",
          "data": {
            "text/plain": [
              "plot without title"
            ],
            "image/png": "[encoded data removed]"
          },
          "metadata": {
            "image/png": {
              "width": 420,
              "height": 420
            }
          }
        }
      ]
    },
    {
      "cell_type": "code",
      "source": [
        "best_model_index <- which.min(reg.fit.summary$bic)\n",
        "coef(regfit, best_model_index)"
      ],
      "metadata": {
        "colab": {
          "base_uri": "https://localhost:8080/",
          "height": 34
        },
        "id": "mkGWghIbo4gL",
        "outputId": "511c1ef6-4a1a-4272-891f-9aaf6879a807"
      },
      "id": "mkGWghIbo4gL",
      "execution_count": 33,
      "outputs": [
        {
          "output_type": "display_data",
          "data": {
            "text/html": [
              "<style>\n",
              ".dl-inline {width: auto; margin:0; padding: 0}\n",
              ".dl-inline>dt, .dl-inline>dd {float: none; width: auto; display: inline-block}\n",
              ".dl-inline>dt::after {content: \":\\0020\"; padding-right: .5ex}\n",
              ".dl-inline>dt:not(:first-of-type) {padding-left: .5ex}\n",
              "</style><dl class=dl-inline><dt>(Intercept)</dt><dd>0.229591590398848</dd><dt>X</dt><dd>2.96207009858007</dd><dt>noise</dt><dd>1.13710799004734</dd></dl>\n"
            ],
            "text/markdown": "(Intercept)\n:   0.229591590398848X\n:   2.96207009858007noise\n:   1.13710799004734\n\n",
            "text/latex": "\\begin{description*}\n\\item[(Intercept)] 0.229591590398848\n\\item[X] 2.96207009858007\n\\item[noise] 1.13710799004734\n\\end{description*}\n",
            "text/plain": [
              "(Intercept)           X       noise \n",
              "  0.2295916   2.9620701   1.1371080 "
            ]
          },
          "metadata": {}
        }
      ]
    },
    {
      "cell_type": "markdown",
      "metadata": {
        "id": "e7f16d76"
      },
      "source": [
        "> *It appear that the model with 2 variables is the best one for all three tests of reg fit.*\n",
        ">"
      ],
      "id": "e7f16d76"
    },
    {
      "cell_type": "markdown",
      "metadata": {
        "id": "19d388b0"
      },
      "source": [
        "---\n",
        "## 2. Forward and backwards stepwise selection (3 points)"
      ],
      "id": "19d388b0"
    },
    {
      "cell_type": "markdown",
      "metadata": {
        "id": "620dc14c"
      },
      "source": [
        "Using the same simulated data from question 1, use forward stepwise selection, and backwards stepwise selections to determine the best model. Again, for both model selection methods, plot the Mallows' Cp, Bayesian Information Criteria (BIC) and the adjusted coefficient of determination, $R^2$, for each model tested. Report the coefficients of the best model."
      ],
      "id": "620dc14c"
    },
    {
      "cell_type": "markdown",
      "metadata": {
        "id": "d734954e"
      },
      "source": [
        "a) Forward stepwise selection:"
      ],
      "id": "d734954e"
    },
    {
      "cell_type": "code",
      "execution_count": 40,
      "metadata": {
        "id": "8018ba62",
        "vscode": {
          "languageId": "r"
        },
        "colab": {
          "base_uri": "https://localhost:8080/",
          "height": 1000
        },
        "outputId": "cc9a630b-e95c-4369-b47d-da55a670b473"
      },
      "outputs": [
        {
          "output_type": "display_data",
          "data": {
            "text/plain": [
              "Subset selection object\n",
              "Call: regsubsets.formula(Y ~ ., dat, nvmax = 10, method = \"forward\")\n",
              "2 Variables  (and intercept)\n",
              "      Forced in Forced out\n",
              "X         FALSE      FALSE\n",
              "noise     FALSE      FALSE\n",
              "1 subsets of each size up to 2\n",
              "Selection Algorithm: forward\n",
              "         X   noise\n",
              "1  ( 1 ) \"*\" \" \"  \n",
              "2  ( 1 ) \"*\" \"*\"  "
            ]
          },
          "metadata": {}
        },
        {
          "output_type": "display_data",
          "data": {
            "text/plain": [
              "plot without title"
            ],
            "image/png": "[encoded data removed]"
          },
          "metadata": {
            "image/png": {
              "width": 420,
              "height": 420
            }
          }
        },
        {
          "output_type": "display_data",
          "data": {
            "text/plain": [
              "plot without title"
            ],
            "image/png": "[encoded data removed]"
          },
          "metadata": {
            "image/png": {
              "width": 420,
              "height": 420
            }
          }
        },
        {
          "output_type": "display_data",
          "data": {
            "text/html": [
              "<style>\n",
              ".dl-inline {width: auto; margin:0; padding: 0}\n",
              ".dl-inline>dt, .dl-inline>dd {float: none; width: auto; display: inline-block}\n",
              ".dl-inline>dt::after {content: \":\\0020\"; padding-right: .5ex}\n",
              ".dl-inline>dt:not(:first-of-type) {padding-left: .5ex}\n",
              "</style><dl class=dl-inline><dt>(Intercept)</dt><dd>0.229591590398848</dd><dt>X</dt><dd>2.96207009858007</dd><dt>noise</dt><dd>1.13710799004734</dd></dl>\n"
            ],
            "text/markdown": "(Intercept)\n:   0.229591590398848X\n:   2.96207009858007noise\n:   1.13710799004734\n\n",
            "text/latex": "\\begin{description*}\n\\item[(Intercept)] 0.229591590398848\n\\item[X] 2.96207009858007\n\\item[noise] 1.13710799004734\n\\end{description*}\n",
            "text/plain": [
              "(Intercept)           X       noise \n",
              "  0.2295916   2.9620701   1.1371080 "
            ]
          },
          "metadata": {}
        },
        {
          "output_type": "display_data",
          "data": {
            "text/plain": [
              "plot without title"
            ],
            "image/png": "[encoded data removed]"
          },
          "metadata": {
            "image/png": {
              "width": 420,
              "height": 420
            }
          }
        }
      ],
      "source": [
        "regfit.fwd <- regsubsets(Y~., dat, nvmax=10, method=\"forward\")\n",
        "reg.fit.fwd.summary <- summary(regfit.fwd)\n",
        "reg.fit.fwd.summary\n",
        "\n",
        "numvar = 1:length(reg.fit.fwd.summary$rss)\n",
        "allfalse = rep(FALSE, length(reg.fit.fwd.summary$rss))\n",
        "\n",
        "cp.df <- data.frame(numvar = numvar, cp <- reg.fit.fwd.summary$cp, mincp <- allfalse)\n",
        "cp.df$mincp[which.min(reg.fit.fwd.summary$cp)] <- TRUE\n",
        "ggplot(cp.df,aes(x=numvar,y=cp,shape=mincp,col=mincp)) +\n",
        "     geom_point(size=3) + theme_light() +\n",
        "     labs(x = \"Number of Variables\", y = \"Mallow's CP\", color=\"Maximum CP\", shape=\"Maximum CP\")\n",
        "\n",
        "bic.df <- data.frame(numvar = numvar,bic <- reg.fit.fwd.summary$bic, minbic <- allfalse)\n",
        "bic.df$minbic[which.min(reg.fit.fwd.summary$bic)] <- TRUE\n",
        "ggplot(bic.df,aes(x=numvar,y=bic,shape=minbic,col=minbic)) +\n",
        "     geom_point(size=3) + theme_light() +\n",
        "     labs(x = \"Number of Variables\", y = \"BIC\", color=\"Minimum BIC\", shape=\"Minimum BIC\")\n",
        "\n",
        "adjr2.df <- data.frame(numvar = numvar, adjr2 <- reg.fit.fwd.summary$adjr2, maxadjr2 <- allfalse)\n",
        "adjr2.df$maxadjr2[which.max(reg.fit.fwd.summary$adjr2)] <- TRUE\n",
        "ggplot(adjr2.df,aes(x=numvar,y=adjr2,shape=maxadjr2,col=maxadjr2)) +\n",
        "    geom_point(size=3) + theme_light() +\n",
        "    labs(x = \"Number of Variables\", y = 'Adj'~R^2, color='Maximum Adj'~R^2, shape='Maximum Adj'~R^2)\n",
        "\n",
        "best_model_index <- which.min(reg.fit.fwd.summary$bic)\n",
        "coef(regfit.fwd, best_model_index)"
      ],
      "id": "8018ba62"
    },
    {
      "cell_type": "code",
      "execution_count": 36,
      "metadata": {
        "id": "861cedcd",
        "vscode": {
          "languageId": "r"
        },
        "colab": {
          "base_uri": "https://localhost:8080/",
          "height": 73
        },
        "outputId": "4e8e80c6-692a-4dd3-cc72-9b864f831ed3"
      },
      "outputs": [
        {
          "output_type": "error",
          "ename": "ERROR",
          "evalue": "Error in parse(text = input): attempt to use zero-length variable name\n",
          "traceback": [
            "Error in parse(text = input): attempt to use zero-length variable name\nTraceback:\n"
          ]
        }
      ],
      "source": [
        "# Note: if your model summary doesn't show up when viewing your notebook on github, copy and paste the output below.\n",
        "# Otherwise you can either delete this cell or leave it blank.\n",
        "\n",
        "```\n",
        "Subset selection object\n",
        "Call: regsubsets.formula(Y ~ ., dat, nvmax = 10, method = \"forward\")\n",
        "2 Variables  (and intercept)\n",
        "      Forced in Forced out\n",
        "X         FALSE      FALSE\n",
        "noise     FALSE      FALSE\n",
        "1 subsets of each size up to 2\n",
        "Selection Algorithm: forward\n",
        "         X   noise\n",
        "1  ( 1 ) \"*\" \" \"\n",
        "2  ( 1 ) \"*\" \"*\"\n",
        "```"
      ],
      "id": "861cedcd"
    },
    {
      "cell_type": "markdown",
      "metadata": {
        "id": "955e381d"
      },
      "source": [
        "b) Backwards stepwise selection:"
      ],
      "id": "955e381d"
    },
    {
      "cell_type": "code",
      "execution_count": 42,
      "metadata": {
        "id": "c9a50756",
        "vscode": {
          "languageId": "r"
        },
        "colab": {
          "base_uri": "https://localhost:8080/",
          "height": 213
        },
        "outputId": "a316f770-d566-4d54-9530-079e29207e6c"
      },
      "outputs": [
        {
          "output_type": "display_data",
          "data": {
            "text/plain": [
              "Subset selection object\n",
              "Call: regsubsets.formula(Y ~ ., dat, nvmax = 10, method = \"backward\")\n",
              "2 Variables  (and intercept)\n",
              "      Forced in Forced out\n",
              "X         FALSE      FALSE\n",
              "noise     FALSE      FALSE\n",
              "1 subsets of each size up to 2\n",
              "Selection Algorithm: backward\n",
              "         X   noise\n",
              "1  ( 1 ) \"*\" \" \"  \n",
              "2  ( 1 ) \"*\" \"*\"  "
            ]
          },
          "metadata": {}
        }
      ],
      "source": [
        "regfit.bwd <- regsubsets(Y~., dat, nvmax=10, method=\"backward\")\n",
        "reg.fit.bwd.summary <- summary(regfit.bwd)\n",
        "reg.fit.bwd.summary\n",
        "\n",
        "numvar = 1:length(reg.fit.bwd.summary$rss)\n",
        "allfalse = rep(FALSE, length(reg.fit.bwd.summary$rss))\n",
        "\n",
        "cp.df <- data.frame(numvar = numvar, cp <- reg.fit.bwd.summary$cp, mincp <- allfalse)\n",
        "cp.df$mincp[which.min(reg.fit.bwd.summary$cp)] <- TRUE\n",
        "ggplot(cp.df,aes(x=numvar,y=cp,shape=mincp,col=mincp)) +\n",
        "     geom_point(size=3) + theme_light() +\n",
        "     labs(x = \"Number of Variables\", y = \"Mallow's CP\", color=\"Maximum CP\", shape=\"Maximum CP\")\n",
        "\n",
        "bic.df <- data.frame(numvar = numvar,bic <- reg.fit.bwd.summary$bic, minbic <- allfalse)\n",
        "bic.df$minbic[which.min(reg.fit.bwd.summary$bic)] <- TRUE\n",
        "ggplot(bic.df,aes(x=numvar,y=bic,shape=minbic,col=minbic)) +\n",
        "     geom_point(size=3) + theme_light() +\n",
        "     labs(x = \"Number of Variables\", y = \"BIC\", color=\"Minimum BIC\", shape=\"Minimum BIC\")\n",
        "\n",
        "adjr2.df <- data.frame(numvar = numvar, adjr2 <- reg.fit.bwd.summary$adjr2, maxadjr2 <- allfalse)\n",
        "adjr2.df$maxadjr2[which.max(reg.fit.bwd.summary$adjr2)] <- TRUE\n",
        "ggplot(adjr2.df,aes(x=numvar,y=adjr2,shape=maxadjr2,col=maxadjr2)) +\n",
        "    geom_point(size=3) + theme_light() +\n",
        "    labs(x = \"Number of Variables\", y = 'Adj'~R^2, color='Maximum Adj'~R^2, shape='Maximum Adj'~R^2)\n",
        "\n",
        "best_model_index <- which.min(reg.fit.bwd.summary$bic)\n",
        "coef(regfit.bwd, best_model_index)"
      ],
      "id": "c9a50756"
    },
    {
      "cell_type": "code",
      "execution_count": null,
      "metadata": {
        "id": "30746619",
        "vscode": {
          "languageId": "r"
        }
      },
      "outputs": [],
      "source": [
        "# Note: if your model summary doesn't show up when viewing your notebook on github, copy and paste the output below.\n",
        "# Otherwise you can either delete this cell or leave it blank.\n",
        "\n",
        "```\n",
        "Subset selection object\n",
        "Call: regsubsets.formula(Y ~ ., dat, nvmax = 10, method = \"backward\")\n",
        "2 Variables  (and intercept)\n",
        "      Forced in Forced out\n",
        "X         FALSE      FALSE\n",
        "noise     FALSE      FALSE\n",
        "1 subsets of each size up to 2\n",
        "Selection Algorithm: backward\n",
        "         X   noise\n",
        "1  ( 1 ) \"*\" \" \"\n",
        "2  ( 1 ) \"*\" \"*\"\n",
        "\n",
        "```"
      ],
      "id": "30746619"
    },
    {
      "cell_type": "markdown",
      "metadata": {
        "id": "25dbc027"
      },
      "source": [
        "c) Compare your results from parts a and b with those of question 1."
      ],
      "id": "25dbc027"
    },
    {
      "cell_type": "markdown",
      "metadata": {
        "id": "34ac850e"
      },
      "source": [
        "> *ll three methods (best subset, forward stepwise, backward stepwise) selected the same best model with 2 variables (X and noise). The coefficients for the best model are also the same across all three methods.**\n",
        ">"
      ],
      "id": "34ac850e"
    },
    {
      "cell_type": "markdown",
      "metadata": {
        "id": "630f4909"
      },
      "source": [
        "---\n",
        "## 3. Training and test error (3 points)"
      ],
      "id": "630f4909"
    },
    {
      "cell_type": "markdown",
      "metadata": {
        "id": "cdea3f49"
      },
      "source": [
        "This question will explore the relationship between training and test error and the number of features included in a model. We will again use a simulated dataset.\n",
        "\n",
        "a) Simulate dataset with features $p = 20$ and observations $n = 1,000$. Generate data for a response variable $Y$ according to the model\n",
        "\n",
        "$Y = X\\beta + \\epsilon$\n",
        "\n",
        "where $\\beta$ is random with some elements that are exactly zero.\n",
        "\n",
        "Split your simulated dataset into a training set containing $n=100$ observations and a test set containing $n=900$ observations."
      ],
      "id": "cdea3f49"
    },
    {
      "cell_type": "code",
      "execution_count": 45,
      "metadata": {
        "id": "3f113879",
        "vscode": {
          "languageId": "r"
        }
      },
      "outputs": [],
      "source": [
        "set.seed(1234)\n",
        "\n",
        "X <- matrix(rnorm(1000 * 20), 1000, 20)\n",
        "beta <- rnorm(20)\n",
        "beta[sample(1:20, 10)] <- 0\n",
        "noise <- rnorm(1000)\n",
        "Y <- X %*% beta + noise\n",
        "\n",
        "train_index <- sample(1:1000, 100)\n",
        "train_data <- data.frame(X[train_index, ], Y = Y[train_index])\n",
        "test_data <- data.frame(X[-train_index, ], Y = Y[-train_index])"
      ],
      "id": "3f113879"
    },
    {
      "cell_type": "markdown",
      "metadata": {
        "id": "5886639c"
      },
      "source": [
        "b) Perform best subset selection on the training set, and plot the associated training and test set MSE for the best model of each size."
      ],
      "id": "5886639c"
    },
    {
      "cell_type": "code",
      "execution_count": 47,
      "metadata": {
        "id": "a1dbdf04",
        "vscode": {
          "languageId": "r"
        },
        "colab": {
          "base_uri": "https://localhost:8080/",
          "height": 437
        },
        "outputId": "a3ea13d6-9b74-4af9-a1a8-9285aa43d436"
      },
      "outputs": [
        {
          "output_type": "display_data",
          "data": {
            "text/plain": [
              "plot without title"
            ],
            "image/png": "[encoded data removed]"
          },
          "metadata": {
            "image/png": {
              "width": 420,
              "height": 420
            }
          }
        }
      ],
      "source": [
        "regfit.full <- regsubsets(Y ~ ., data = train_data, nvmax = 20)\n",
        "train_mse <- rep(NA, 20)\n",
        "test_mse <- rep(NA, 20)\n",
        "\n",
        "for (i in 1:20) {\n",
        "  coefi <- coef(regfit.full, id = i)\n",
        "  pred_train <- as.matrix(train_data[, names(coefi)[-1]]) %*% coefi[-1] + coefi[1]\n",
        "  pred_test <- as.matrix(test_data[, names(coefi)[-1]]) %*% coefi[-1] + coefi[1]\n",
        "\n",
        "  train_mse[i] <- mean((train_data$Y - pred_train)^2)\n",
        "  test_mse[i] <- mean((test_data$Y - pred_test)^2)\n",
        "}\n",
        "\n",
        "plot(1:20, train_mse, type = \"b\", col = \"blue\", xlab = \"Number of Predictors\", ylab = \"MSE\")\n",
        "lines(1:20, test_mse, type = \"b\", col = \"red\")\n",
        "legend(\"topright\", legend = c(\"Train MSE\", \"Test MSE\"), col = c(\"blue\", \"red\"), lty = 1)\n"
      ],
      "id": "a1dbdf04"
    },
    {
      "cell_type": "markdown",
      "metadata": {
        "id": "24f9d2f1"
      },
      "source": [
        "c) Identify the best model according the test MSE. How does this model compare to the actual model used to simulate the dataset?\n",
        "\n",
        "*Note: If the model identified contains only an intercept or all of the features, then generate a new dataset (i.e. repeat part a with a different random seed) until the test set MSE is minimized for an intermediate model size.*"
      ],
      "id": "24f9d2f1"
    },
    {
      "cell_type": "code",
      "execution_count": 49,
      "metadata": {
        "id": "87db7d52",
        "vscode": {
          "languageId": "r"
        },
        "colab": {
          "base_uri": "https://localhost:8080/",
          "height": 34
        },
        "outputId": "399735aa-1383-49aa-ce9d-c21f5db28ab2"
      },
      "outputs": [
        {
          "output_type": "display_data",
          "data": {
            "text/html": [
              "11"
            ],
            "text/markdown": "11",
            "text/latex": "11",
            "text/plain": [
              "[1] 11"
            ]
          },
          "metadata": {}
        }
      ],
      "source": [
        "best_model_size <- which.min(test_mse)\n",
        "best_model_size"
      ],
      "id": "87db7d52"
    },
    {
      "cell_type": "markdown",
      "metadata": {
        "id": "894b4503"
      },
      "source": [
        "> *The best model according to the test MSE has 11 predictors. This model likely includes the predictors with non-zero coefficients in the actual model used to simulate the data, but it may also include some predictors with coefficients that were originally set to zero due to random chance in the training data.*\n",
        ">"
      ],
      "id": "894b4503"
    },
    {
      "cell_type": "markdown",
      "metadata": {
        "id": "35b974f0"
      },
      "source": [
        "**DUE:** 5pm EST, April 8, 2024"
      ],
      "id": "35b974f0"
    },
    {
      "cell_type": "markdown",
      "metadata": {
        "id": "957a72c5"
      },
      "source": [
        "**IMPORTANT** Did you collaborate with anyone on this assignment? If so, list their names here.\n",
        "> *Someone's Name*"
      ],
      "id": "957a72c5"
    }
  ],
  "metadata": {
    "colab": {
      "provenance": [],
      "include_colab_link": true
    },
    "kernelspec": {
      "display_name": "R",
      "name": "ir"
    },
    "language_info": {
      "codemirror_mode": "r",
      "file_extension": ".r",
      "mimetype": "text/x-r-source",
      "name": "R",
      "pygments_lexer": "r",
      "version": "4.2.0"
    }
  },
  "nbformat": 4,
  "nbformat_minor": 5
}